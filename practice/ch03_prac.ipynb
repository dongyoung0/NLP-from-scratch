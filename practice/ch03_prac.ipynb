{
 "cells": [
  {
   "cell_type": "markdown",
   "metadata": {
    "id": "lMD17FP-y6Bj"
   },
   "source": [
    "# word2vec"
   ]
  },
  {
   "cell_type": "markdown",
   "metadata": {
    "id": "cL3SaanXy-eS"
   },
   "source": [
    "- 통계 기반 기법의 문제점\n",
    "  - SVD를 사용하여 차원축소를 했었는데, nxn 행렬에 SVD를 적용하는 비용으ㄴ $O(n^3)$으로 너무 큼.\n",
    "- 추론 기반 기법\n",
    "  - neural network가 미니배치로 학습 데이터를 소량씩 나눠서 학습하듯이 추론 기반 기법도 학습 데이터 일부를 순차적으로 학습\n",
    "  <br/> <img src='../figs/fig%203-1.png'>\n"
   ]
  },
  {
   "cell_type": "markdown",
   "metadata": {
    "id": "lR8jGuu73tKm"
   },
   "source": [
    "### 추론 기반 기법 개요\n",
    "- 추론 기반 기법은 주변 단어(맥락)이 주어졌을때 무슨 단어가 들어갈지 추측하는 작업.\n",
    "<br/> <img src='../figs/fig%203-2.png'>\n",
    "\n",
    "### 신경망에서의 단어 처리\n",
    "- 신경망을 이용하기 위해 '단어'를 '고정 길이의 벡터'로 변환해야 함.\n",
    "- One-hot 벡터로 변환\n",
    " "
   ]
  },
  {
   "cell_type": "code",
   "execution_count": 1,
   "metadata": {
    "ExecuteTime": {
     "end_time": "2021-10-18T13:49:43.082628Z",
     "start_time": "2021-10-18T13:49:43.056306Z"
    },
    "colab": {
     "base_uri": "https://localhost:8080/"
    },
    "executionInfo": {
     "elapsed": 351,
     "status": "ok",
     "timestamp": 1634451227809,
     "user": {
      "displayName": "김동영",
      "photoUrl": "https://lh3.googleusercontent.com/a/default-user=s64",
      "userId": "17835880286856113214"
     },
     "user_tz": -540
    },
    "id": "hKjZJB2Ty2zC",
    "outputId": "c1995994-25f3-4224-d63b-52969213f596"
   },
   "outputs": [
    {
     "name": "stdout",
     "output_type": "stream",
     "text": [
      "[[1.22704086 1.19957799 0.07702428]]\n"
     ]
    }
   ],
   "source": [
    "import numpy as np\n",
    "# ID가 0인 벡터를 one-hot 벡터로 표현한 후 fully-conn'd layer를 통과시켜 변환하는 모습\n",
    "c = np.array([[1, 0, 0, 0, 0, 0, 0]])\n",
    "W = np.random.randn(7, 3)\n",
    "h = np.matmul(c, W)\n",
    "print(h)        "
   ]
  },
  {
   "cell_type": "markdown",
   "metadata": {
    "id": "b0oIu6tO3sP7"
   },
   "source": [
    "- 위 식에서 c와 W의 곱은 가중치 W의 row 벡터 하나를 뽑아낸 것과 같음\n",
    "- 벡터와 행렬을 곱하지 않아도 row 벡터 추출 가능. -> 계산량 감소"
   ]
  },
  {
   "cell_type": "code",
   "execution_count": 4,
   "metadata": {
    "ExecuteTime": {
     "end_time": "2021-10-18T13:57:22.705565Z",
     "start_time": "2021-10-18T13:57:22.689861Z"
    },
    "executionInfo": {
     "elapsed": 397,
     "status": "ok",
     "timestamp": 1634451371200,
     "user": {
      "displayName": "김동영",
      "photoUrl": "https://lh3.googleusercontent.com/a/default-user=s64",
      "userId": "17835880286856113214"
     },
     "user_tz": -540
    },
    "id": "JykTB7mK5Der"
   },
   "outputs": [
    {
     "name": "stdout",
     "output_type": "stream",
     "text": [
      "[[ 1.17488791  0.42578862 -1.25736446]]\n"
     ]
    }
   ],
   "source": [
    "# 우리가 구현한 MatMul을 통해 표현하는 방법\n",
    "import sys\n",
    "sys.path.append('..')\n",
    "from common.layers import MatMul\n",
    "\n",
    "c = np.array([[1, 0, 0, 0, 0, 0, 0]])\n",
    "W = np.random.randn(7, 3)\n",
    "layer = MatMul(W)\n",
    "h = layer.forward(c)\n",
    "print(h)"
   ]
  },
  {
   "cell_type": "markdown",
   "metadata": {
    "id": "4KRr_oRp5L3z"
   },
   "source": [
    "## CBOW(Continuous Bag-Of-Words)\n",
    "- CBOW 모델은 맥락으로부터 target을 추측하는 용도의 신경망.\n",
    "- input : 맥락, 맥락을 one-hot encoding\n",
    "- CBOW 구조\n",
    "<br/> <img src='../figs/fig%203-9.png' width ='300px'>\n",
    "- 입력시킬 단어의 개수만큼 입력층이 존재.\n",
    "- hidden layer에서는 input layer들의 평균값 계산\n",
    "- 출력 시 softmax를 통해 확률 얻음"
   ]
  },
  {
   "cell_type": "code",
   "execution_count": 8,
   "metadata": {
    "ExecuteTime": {
     "end_time": "2021-10-18T14:00:45.476294Z",
     "start_time": "2021-10-18T14:00:45.460140Z"
    },
    "colab": {
     "base_uri": "https://localhost:8080/"
    },
    "executionInfo": {
     "elapsed": 281,
     "status": "ok",
     "timestamp": 1634452077919,
     "user": {
      "displayName": "김동영",
      "photoUrl": "https://lh3.googleusercontent.com/a/default-user=s64",
      "userId": "17835880286856113214"
     },
     "user_tz": -540
    },
    "id": "0WXs8vmO7PRs",
    "outputId": "c2dc08bf-a95f-4f92-8792-6b04a6979d81"
   },
   "outputs": [
    {
     "name": "stdout",
     "output_type": "stream",
     "text": [
      "[[ 0.48953878  0.49577206 -0.24207979 -0.58505024  0.2347532  -0.67976034\n",
      "   0.09603103]]\n"
     ]
    }
   ],
   "source": [
    "# 샘플 맥락 데이터\n",
    "c0 = np.array([[1, 0, 0, 0, 0, 0, 0]])\n",
    "c1 = np.array([[0, 0, 1, 0, 0, 0, 0]])\n",
    "\n",
    "# 가중치 초기화\n",
    "W_in = np.random.randn(7, 3)\n",
    "W_out = np.random.randn(3, 7)\n",
    "\n",
    "# layer 생성\n",
    "in_layer0 = MatMul(W_in)\n",
    "in_layer1 = MatMul(W_in)\n",
    "out_layer = MatMul(W_out)\n",
    "\n",
    "# forward propagation\n",
    "h0 = in_layer0.forward(c0)\n",
    "h1 = in_layer1.forward(c1)\n",
    "h = 0.5 * (h0 + h1)\n",
    "s = out_layer.forward(h)\n",
    "\n",
    "print(s)"
   ]
  },
  {
   "cell_type": "markdown",
   "metadata": {
    "id": "ZcyLZWKV76pP"
   },
   "source": [
    "### 학습\n",
    "- CBOW 모델은 학습시 사용한 말뭉치(corpus)에 따라 얻게 되는 단어의 분산 표현이 다름.\n",
    "<br/> <img src='../figs/fig%203-13.png'>\n",
    "- Softmax로 해당 단어가 해당 자리에 나타날 확률을 구한 후 Cross-entropy Error를 통해 Loss 계산, 학습"
   ]
  },
  {
   "cell_type": "markdown",
   "metadata": {
    "id": "0bUpu-sx81T_"
   },
   "source": [
    "### 가중치\n",
    "- CBOW 모델에서 사용되는 신경망에는 가중치가 2개 존재 : W_in, W_out\n",
    "- W_in의 각 행이 각 단어의 분산표현임.\n",
    "- W_out에도 단어의 가중치가 저장됨\n",
    "<br/> <img src='../figs/fig%203-15.png'>\n",
    "- word2vec에서는 보통 W_in만 사용함(특히 skip-gram)\n",
    "- GloVE에서는 두 가중치를 더해서 사용했을때 좋은 결과를 얻었음"
   ]
  },
  {
   "cell_type": "code",
   "execution_count": 9,
   "metadata": {
    "ExecuteTime": {
     "end_time": "2021-10-18T14:02:51.622822Z",
     "start_time": "2021-10-18T14:02:51.599480Z"
    },
    "executionInfo": {
     "elapsed": 10,
     "status": "ok",
     "timestamp": 1634452732655,
     "user": {
      "displayName": "김동영",
      "photoUrl": "https://lh3.googleusercontent.com/a/default-user=s64",
      "userId": "17835880286856113214"
     },
     "user_tz": -540
    },
    "id": "bFADmOy49UIV"
   },
   "outputs": [],
   "source": [
    "from util.corpus import preprocess\n",
    "text = 'You say goodbye and I say hello.'\n",
    "corpus, word_to_id, id_to_word = preprocess(text)"
   ]
  },
  {
   "cell_type": "code",
   "execution_count": 10,
   "metadata": {
    "ExecuteTime": {
     "end_time": "2021-10-18T14:02:52.084352Z",
     "start_time": "2021-10-18T14:02:52.071685Z"
    },
    "colab": {
     "base_uri": "https://localhost:8080/"
    },
    "executionInfo": {
     "elapsed": 342,
     "status": "ok",
     "timestamp": 1634452741984,
     "user": {
      "displayName": "김동영",
      "photoUrl": "https://lh3.googleusercontent.com/a/default-user=s64",
      "userId": "17835880286856113214"
     },
     "user_tz": -540
    },
    "id": "sqGp3ygA-QdC",
    "outputId": "79a2af6e-d2d8-46de-a799-4d7435cfb076"
   },
   "outputs": [
    {
     "name": "stdout",
     "output_type": "stream",
     "text": [
      "[0 1 2 3 4 1 5 6]\n"
     ]
    }
   ],
   "source": [
    "print(corpus)"
   ]
  },
  {
   "cell_type": "code",
   "execution_count": 12,
   "metadata": {
    "ExecuteTime": {
     "end_time": "2021-10-18T14:03:35.170988Z",
     "start_time": "2021-10-18T14:03:35.156611Z"
    },
    "executionInfo": {
     "elapsed": 280,
     "status": "ok",
     "timestamp": 1634452899728,
     "user": {
      "displayName": "김동영",
      "photoUrl": "https://lh3.googleusercontent.com/a/default-user=s64",
      "userId": "17835880286856113214"
     },
     "user_tz": -540
    },
    "id": "8LiI40bC-Ybq"
   },
   "outputs": [],
   "source": [
    "# 맥락(context)과 타깃(target)을 구하는 함수 구현\n",
    "def create_contexts_target(corpus, window_size=1):\n",
    "    target = corpus[window_size:-window_size]\n",
    "    contexts = []\n",
    "    \n",
    "    for i in range(window_size, len(corpus)-window_size):\n",
    "        cs = []\n",
    "        for t in range(-window_size, window_size + 1):\n",
    "            if t == 0:\n",
    "                continue\n",
    "        cs.append(corpus[i + t])\n",
    "        contexts.append(cs)\n",
    "    \n",
    "    return np.array(contexts), np.array(target)"
   ]
  },
  {
   "cell_type": "code",
   "execution_count": 13,
   "metadata": {
    "ExecuteTime": {
     "end_time": "2021-10-18T14:03:35.885957Z",
     "start_time": "2021-10-18T14:03:35.873139Z"
    },
    "executionInfo": {
     "elapsed": 387,
     "status": "ok",
     "timestamp": 1634452931604,
     "user": {
      "displayName": "김동영",
      "photoUrl": "https://lh3.googleusercontent.com/a/default-user=s64",
      "userId": "17835880286856113214"
     },
     "user_tz": -540
    },
    "id": "2h110yf8_AT7"
   },
   "outputs": [],
   "source": [
    "contexts, target = create_contexts_target(corpus, window_size=1)"
   ]
  },
  {
   "cell_type": "code",
   "execution_count": 14,
   "metadata": {
    "ExecuteTime": {
     "end_time": "2021-10-18T14:03:36.345239Z",
     "start_time": "2021-10-18T14:03:36.330098Z"
    },
    "colab": {
     "base_uri": "https://localhost:8080/"
    },
    "executionInfo": {
     "elapsed": 338,
     "status": "ok",
     "timestamp": 1634453070676,
     "user": {
      "displayName": "김동영",
      "photoUrl": "https://lh3.googleusercontent.com/a/default-user=s64",
      "userId": "17835880286856113214"
     },
     "user_tz": -540
    },
    "id": "LoePYfQc_F2D",
    "outputId": "473d294e-3f2a-4999-e5f6-c4eb93f7dfc2"
   },
   "outputs": [
    {
     "data": {
      "text/plain": [
       "array([1, 2, 3, 4, 1, 5])"
      ]
     },
     "execution_count": 14,
     "metadata": {},
     "output_type": "execute_result"
    }
   ],
   "source": [
    "target"
   ]
  },
  {
   "cell_type": "code",
   "execution_count": 15,
   "metadata": {
    "ExecuteTime": {
     "end_time": "2021-10-18T14:03:40.985764Z",
     "start_time": "2021-10-18T14:03:40.970157Z"
    },
    "executionInfo": {
     "elapsed": 385,
     "status": "ok",
     "timestamp": 1634454697098,
     "user": {
      "displayName": "김동영",
      "photoUrl": "https://lh3.googleusercontent.com/a/default-user=s64",
      "userId": "17835880286856113214"
     },
     "user_tz": -540
    },
    "id": "r9qwCz45AXxp"
   },
   "outputs": [],
   "source": [
    "def convert_one_hot(corpus, vocab_size):\n",
    "    '''원핫 표현으로 변환\n",
    "\n",
    "    :param corpus: 단어 ID 목록(1차원 또는 2차원 넘파이 배열)\n",
    "    :param vocab_size: 어휘 수\n",
    "    :return: 원핫 표현(2차원 또는 3차원 넘파이 배열)\n",
    "    '''\n",
    "    N = corpus.shape[0]\n",
    "\n",
    "    if corpus.ndim == 1:\n",
    "        one_hot = np.zeros((N, vocab_size), dtype=np.int32)\n",
    "        for idx, word_id in enumerate(corpus):\n",
    "            one_hot[idx, word_id] = 1\n",
    "\n",
    "    elif corpus.ndim == 2:\n",
    "        C = corpus.shape[1]\n",
    "        one_hot = np.zeros((N, C, vocab_size), dtype=np.int32)\n",
    "        for idx_0, word_ids in enumerate(corpus):\n",
    "            for idx_1, word_id in enumerate(word_ids):\n",
    "                one_hot[idx_0, idx_1, word_id] = 1\n",
    "\n",
    "    return one_hot"
   ]
  },
  {
   "cell_type": "code",
   "execution_count": 16,
   "metadata": {
    "ExecuteTime": {
     "end_time": "2021-10-18T14:03:49.591956Z",
     "start_time": "2021-10-18T14:03:49.577607Z"
    },
    "executionInfo": {
     "elapsed": 348,
     "status": "ok",
     "timestamp": 1634454768858,
     "user": {
      "displayName": "김동영",
      "photoUrl": "https://lh3.googleusercontent.com/a/default-user=s64",
      "userId": "17835880286856113214"
     },
     "user_tz": -540
    },
    "id": "qjtTdL-YFH0P"
   },
   "outputs": [],
   "source": [
    "vocab_size = len(word_to_id)\n",
    "target = convert_one_hot(target, vocab_size)\n",
    "contexts = convert_one_hot(contexts, vocab_size)"
   ]
  },
  {
   "cell_type": "code",
   "execution_count": 19,
   "metadata": {
    "ExecuteTime": {
     "end_time": "2021-10-18T14:07:54.784883Z",
     "start_time": "2021-10-18T14:07:54.764019Z"
    },
    "colab": {
     "base_uri": "https://localhost:8080/",
     "height": 135
    },
    "executionInfo": {
     "elapsed": 391,
     "status": "error",
     "timestamp": 1634454925090,
     "user": {
      "displayName": "김동영",
      "photoUrl": "https://lh3.googleusercontent.com/a/default-user=s64",
      "userId": "17835880286856113214"
     },
     "user_tz": -540
    },
    "id": "EDU8kNJGGDhB",
    "outputId": "dddda5ad-332c-4d25-d3be-de8387fe8707"
   },
   "outputs": [],
   "source": [
    "class SimpleCBOW:\n",
    "    def __init__(self, vocab_size, hidden_size):\n",
    "        V, H = vocab_size, hidden_size\n",
    "\n",
    "        # initialize weight\n",
    "        W_in = 0.01 * np.random.randn(V, H).astype('f') \n",
    "        W_out = 0.01 * np.random.randn(H, V).astype('f')\n",
    "\n",
    "        # layer 생성\n",
    "        self.in_layer0 = MatMul(W_in)\n",
    "        self.in_layer1 = MatMul(W_in)\n",
    "        self.out_layer = MatMul(W_out)\n",
    "        self.loss_layer = SoftmaxWithLoss()\n",
    "        \n",
    "        #list에 모으기\n",
    "        layers = [self.in_layer0, self.in_layer1, self.out_layer]\n",
    "        self.params, self.grads = [], []\n",
    "        for layer in layers:\n",
    "            self.params += layer.params\n",
    "            self.grads += layer.grads\n",
    "            \n",
    "        # 단어의 분산표현 저장\n",
    "        self.word_vecs = W_in\n",
    "        \n",
    "    def forward(self, contexts, target):\n",
    "        h0 = self.in_layer0.forward(contexts[:,0])\n",
    "        h1 = self.in_layer1.forward(contexts[:,1])\n",
    "        h = (h0 + h1) * 0.5\n",
    "        score = self.out_layer.forward(h)\n",
    "        loss = self.loss_layer.forward(score, target)\n",
    "        return loss\n",
    "    \n",
    "    def backward(self, dout=1):\n",
    "        ds = self.loss_layer.backward(dout)\n",
    "        da = self.out_layer.backward(ds)\n",
    "        da *= 0.5\n",
    "        self.in_layer1.backward(da)\n",
    "        self.in_layer0.backward(da)\n",
    "        return None"
   ]
  },
  {
   "cell_type": "code",
   "execution_count": null,
   "metadata": {},
   "outputs": [],
   "source": []
  }
 ],
 "metadata": {
  "colab": {
   "authorship_tag": "ABX9TyOFjCGLr9DQJui+Sl/MLvju",
   "collapsed_sections": [],
   "name": "Scratch3.ipynb",
   "provenance": []
  },
  "kernelspec": {
   "display_name": "Python 3",
   "language": "python",
   "name": "python3"
  },
  "toc": {
   "base_numbering": 1,
   "nav_menu": {},
   "number_sections": true,
   "sideBar": true,
   "skip_h1_title": false,
   "title_cell": "Table of Contents",
   "title_sidebar": "Contents",
   "toc_cell": false,
   "toc_position": {},
   "toc_section_display": true,
   "toc_window_display": false
  },
  "varInspector": {
   "cols": {
    "lenName": 16,
    "lenType": 16,
    "lenVar": 40
   },
   "kernels_config": {
    "python": {
     "delete_cmd_postfix": "",
     "delete_cmd_prefix": "del ",
     "library": "var_list.py",
     "varRefreshCmd": "print(var_dic_list())"
    },
    "r": {
     "delete_cmd_postfix": ") ",
     "delete_cmd_prefix": "rm(",
     "library": "var_list.r",
     "varRefreshCmd": "cat(var_dic_list()) "
    }
   },
   "types_to_exclude": [
    "module",
    "function",
    "builtin_function_or_method",
    "instance",
    "_Feature"
   ],
   "window_display": false
  }
 },
 "nbformat": 4,
 "nbformat_minor": 1
}
