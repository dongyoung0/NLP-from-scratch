{
 "cells": [
  {
   "cell_type": "markdown",
   "metadata": {},
   "source": [
    "# word2vec 개선"
   ]
  },
  {
   "cell_type": "code",
   "execution_count": null,
   "metadata": {},
   "outputs": [],
   "source": []
  },
  {
   "cell_type": "markdown",
   "metadata": {},
   "source": [
    "## Simple CBOW의 문제점"
   ]
  },
  {
   "cell_type": "markdown",
   "metadata": {},
   "source": [
    "- window size를 1로 한정했음\n",
    "    - 원하는 window size에 대해 계산할 수 있도록 개선 \n",
    "<br/><br/>\n",
    "- 어휘수가 많아질수록 계산량이 매우 커짐\n",
    "- 특히 두가지 과정이 bottleneck\n",
    "    1. input(one-hot vector)와 weight(W_in)의 곱셈\n",
    "    2. hidden layer 에서 output으로 갈 때 weight(W_out)의 곱셈, softmax 계산\n",
    "<br/><br/>\n",
    "- 해결 방안\n",
    "    1. Embedding layer를 통해 계산량 감소\n",
    "    2. Negative sampling을 통해 loss 계산 과정 개선"
   ]
  },
  {
   "cell_type": "markdown",
   "metadata": {},
   "source": [
    "## Embedding layer"
   ]
  },
  {
   "cell_type": "markdown",
   "metadata": {},
   "source": [
    "- one-hot vector와 W_in을 곱하는 과정은 W_in의 특정 row를 추출하는 것과 같음\n",
    "<br/><img src='../figs/fig%204-3.png' width='500px'>\n",
    "<br/>\n",
    "- matrix 연산을 하지 않고 row vector를 추출하는 `Embedding layer`를 통해 계산량 개선"
   ]
  },
  {
   "cell_type": "code",
   "execution_count": 1,
   "metadata": {
    "ExecuteTime": {
     "end_time": "2021-10-22T02:10:25.325688Z",
     "start_time": "2021-10-22T02:10:25.314745Z"
    }
   },
   "outputs": [],
   "source": [
    "class Embedding:\n",
    "    def __init__(self, W):\n",
    "        self.params = [W]\n",
    "        self.grads = [np.zeros_like(W)]\n",
    "        self.idx = None\n",
    "        \n",
    "    def forward(self, idx):\n",
    "        W, = self.params\n",
    "        output = W[self.idx]\n",
    "        return output\n",
    "    \n",
    "    def backward(self, dout):\n",
    "        dW, = self.grads\n",
    "        dW[...] = 0 # \n",
    "#         # 좋지 않은 예. idx의 원소가 중복인 경우 문제가 생김\n",
    "#         dW[self.idx] = dout \n",
    "#         for i, word_id in enumerate(self.idx):\n",
    "#             dW[word_id] += dout[i]\n",
    "        np.add.at(dW, self.idx, dout)\n",
    "        return None"
   ]
  },
  {
   "cell_type": "markdown",
   "metadata": {},
   "source": [
    "## Multi-class -> binary"
   ]
  },
  {
   "cell_type": "markdown",
   "metadata": {},
   "source": [
    "- 다중 분류(multi-class classification)을 이진 분류(binary classification)으로 근사하려는 것 \n",
    "     - 해당 자리에 target이 나타날 확률 -> 해당 자리에 위치한 단어가 target인지 아닌지로 변환  \n",
    "- W_out의 target에 해당하는 column만 추출 후 hidden layer 뉴런과 내적 (Matrix x vector를 vector간 내적으로 변환)\n",
    "    - Multi-class 에서 Softmax -> cross-entropy loss를 사용했던 것에서\n",
    "    - Binary의 경우 Sigmoid -> cross-entropy loss 사용 "
   ]
  },
  {
   "cell_type": "markdown",
   "metadata": {},
   "source": [
    "- 이때 Sigmoid layer와 Cross-entropy를 섞어서 back-propagation시 미분값이 $y-t$로 간단함.\n",
    "<br/> <img src='../figs/fig%204-10.png'>"
   ]
  },
  {
   "cell_type": "markdown",
   "metadata": {},
   "source": [
    "### 전체 과정\n",
    "\n",
    "<br/> <img src = '../figs/fig%204-12.png'>"
   ]
  },
  {
   "cell_type": "code",
   "execution_count": 2,
   "metadata": {
    "ExecuteTime": {
     "end_time": "2021-10-22T02:10:28.066377Z",
     "start_time": "2021-10-22T02:10:28.059394Z"
    }
   },
   "outputs": [],
   "source": [
    "# h와 W_out의 embedding vector의 dot 부분 구현\n",
    "class EmbeddingDot:\n",
    "    def __init__(self, W):\n",
    "        self.embed = Embedding(W)\n",
    "        self.params = self.embed.params\n",
    "        self.grads = self.embed.grads\n",
    "        self.cache = None\n",
    "        \n",
    "    def forward(self, h, idx):\n",
    "        target_W = self.embed.forward(idx) # row 추출\n",
    "        out = np.sum(target_W + h, axis=1)\n",
    "        \n",
    "        self.cache = (h, target_W)\n",
    "        return out\n",
    "    \n",
    "    def backward(self, dout):\n",
    "        h, target_W = self.cache\n",
    "        # \n",
    "        dout = dout.reshape(dout.shape[0], 1)\n",
    "        dtarget_W = dout * h\n",
    "        self.embed.backward(dtarget_W)\n",
    "        dh = dout * target_W\n",
    "        return dh"
   ]
  },
  {
   "cell_type": "markdown",
   "metadata": {},
   "source": [
    "## Negative sampling"
   ]
  },
  {
   "cell_type": "markdown",
   "metadata": {},
   "source": [
    "- binary classification으로 변환함으로써 계산량을 줄였음.\n",
    "- 하지만 정답(positive)에 대해서만 학습했고, 오답(negative)에 대해서는 학습을 안함\n",
    "    - 정답을 입력했을때 출력이 1에 가까운 방향으로 학습했음.\n",
    "    - 하지만 오답을 입력했을때 출력이 0에 가까워지도록 만들어줘야함.\n",
    "- 모든 negative에 대해 학습을 하기에는 어휘 수가 너무 늘어남\n",
    "    - 적은 수의 negative를 sampling해서 사용."
   ]
  },
  {
   "cell_type": "markdown",
   "metadata": {},
   "source": [
    "### Sampling\n",
    "- 자주 등장하는 단어가 많이 sampling되도록 각 단어의 출현 횟수의 확률분포에 따라 단어를 sampling.\n",
    "- negative를 적게 sampling하므로 자주 나오지 않는 단어에 대해 학습하는 것 보단 흔하게 나오는 단어를 사용하는 것이 나음"
   ]
  },
  {
   "cell_type": "code",
   "execution_count": 3,
   "metadata": {
    "ExecuteTime": {
     "end_time": "2021-10-22T02:10:29.828894Z",
     "start_time": "2021-10-22T02:10:29.812937Z"
    }
   },
   "outputs": [],
   "source": [
    "# Unigram : 하나의 연속된 단어\n",
    "# Bigram : 두개의 연속된 단어\n",
    "# Trigram : 세개의 연속된 단어\n",
    "\n",
    "class UnigramSampler:\n",
    "    '''\n",
    "    corpus에서 target에 대한 negative sampling\n",
    "    '''\n",
    "    def __init__(self, corpus, power, sample_size):\n",
    "        self.corpus = corpus\n",
    "        self.power = power\n",
    "        self.sample_size = sample_size\n",
    "        \n",
    "    def get_negative_sample(self, target):\n",
    "        neg_sample = []\n",
    "        for t in target:\n",
    "            # words : target을 제외한 단어 집합\n",
    "            words = list(range(max(corpus)+1))\n",
    "            words.remove(t)\n",
    "            # 확률분포 계산\n",
    "            p = [list(corpus).count(word)/len(corpus) for word in words]\n",
    "            new_p = np.power(p, power)\n",
    "            new_p /= np.sum(new_p)\n",
    "            neg = np.random.choice(words, sample_size, p = new_p, replace=False)\n",
    "            neg_sample.append(neg)\n",
    "        return neg_sample, new_p"
   ]
  },
  {
   "cell_type": "code",
   "execution_count": 4,
   "metadata": {
    "ExecuteTime": {
     "end_time": "2021-10-22T02:10:30.406859Z",
     "start_time": "2021-10-22T02:10:30.397850Z"
    }
   },
   "outputs": [
    {
     "name": "stdout",
     "output_type": "stream",
     "text": [
      "[array([4, 0]), array([2, 1]), array([3, 1])]\n",
      "[0.2781948  0.2781948  0.2781948  0.16541561]\n"
     ]
    }
   ],
   "source": [
    "corpus = np.array([0, 1, 2, 3, 4, 1, 2, 3])\n",
    "power = 0.75\n",
    "sample_size = 2\n",
    "\n",
    "sampler = UnigramSampler(corpus, power, sample_size)\n",
    "target = np.array([1, 3, 0])\n",
    "negative_sample, p = sampler.get_negative_sample(target)\n",
    "print(negative_sample)\n",
    "print(p)"
   ]
  },
  {
   "cell_type": "markdown",
   "metadata": {},
   "source": [
    "### Negative Sampling"
   ]
  },
  {
   "cell_type": "code",
   "execution_count": 17,
   "metadata": {
    "ExecuteTime": {
     "end_time": "2021-10-22T02:24:19.774579Z",
     "start_time": "2021-10-22T02:24:19.760443Z"
    }
   },
   "outputs": [],
   "source": [
    "from common.layers import SigmoidWithLoss\n",
    "\n",
    "class NegativeSamplingLoss:\n",
    "    def __init__(self, W, corpus, power = 0.75, sample_size = 5):\n",
    "        self.sampler = UnigramSampler(corpus, power, sample_size)\n",
    "        self.sample_size = sample_size # 샘플링 횟수\n",
    "        self.loss_layer = [SigmoidWithLoss() for _ in range (sample_size + 1)]\n",
    "        self.embed_dot_layers = [EmbeddingDot(W) for _ in range(sample_size + 1)]\n",
    "        self.params, self.grads = [], []\n",
    "        \n",
    "        for layer in self.embed_dot_layers:\n",
    "            self.params += layer.params\n",
    "            self.grads += layer.grads\n",
    "            \n",
    "    def forward(self, h, target):\n",
    "        batch_size = target.shape[0]\n",
    "        neg_sample = self.sampler.get_negative_sample(target)\n",
    "        # positive\n",
    "        score = self.embed_dot_layers[0].forward(h, target)\n",
    "        pos_label = np.ones(batch_size).astype(int)\n",
    "        loss = self.loss_layers[0].forward(score, pos_label)\n",
    "        # negative\n",
    "        neg_label = np.zeors(batcs_size).astype(int)\n",
    "        for i in range(self.sample_size):\n",
    "            neg_target = neg_sample[:, i]\n",
    "            score = self.embed_dot_layers[i].forward(h, neg_target)\n",
    "            loss = self.loss_layers[i].forward(score, neg_label)\n",
    "            \n",
    "        return loss\n",
    "    \n",
    "    def backward(self, dout=1):\n",
    "        dh = 0\n",
    "        for l0, l1 in zip(self.loss_layers, self.embed_dot_layers):\n",
    "            dscore = l0.backwawrd(dout)\n",
    "            dh += l1.backward(dscore)\n",
    "            \n",
    "        return dh"
   ]
  },
  {
   "cell_type": "code",
   "execution_count": null,
   "metadata": {},
   "outputs": [],
   "source": []
  },
  {
   "cell_type": "code",
   "execution_count": 6,
   "metadata": {
    "ExecuteTime": {
     "end_time": "2021-10-22T02:10:33.143053Z",
     "start_time": "2021-10-22T02:10:33.137068Z"
    }
   },
   "outputs": [],
   "source": [
    "import sys\n",
    "sys.path.append('..')\n",
    "import numpy as np\n",
    "#from common.layers import Embedding\n"
   ]
  },
  {
   "cell_type": "code",
   "execution_count": 8,
   "metadata": {
    "ExecuteTime": {
     "end_time": "2021-10-22T02:18:33.903719Z",
     "start_time": "2021-10-22T02:18:33.887761Z"
    }
   },
   "outputs": [],
   "source": [
    "class CBOW:\n",
    "    def __init__(self, vocab_size, hidden_size, window_size, corpus):\n",
    "        V, H = vocab_size, hidden_size\n",
    "        \n",
    "        # initialize weight\n",
    "        W_in = 0.01 * np.random.randn(V, H).astype('f')\n",
    "        W_out = 0.01 * np.random.randn(V, H).astype('f')\n",
    "        \n",
    "        # layer 생성\n",
    "        self.in_layers = []\n",
    "        for i in range(2 * window_size):\n",
    "            layer = Embedding(W_in)\n",
    "            self.in_layers.append(layer)\n",
    "        self.neg_loss = NegativeSamplingLoss(W_out, corpus, power=0.75, sample_size=5)\n",
    "        \n",
    "        # layer, parameter 정리\n",
    "        layers = self.in_layers + [self.neg_loss]\n",
    "        self.params, self.grads = [], []\n",
    "        for layer in layers:\n",
    "            self.params += layer.params\n",
    "            self.grads += layer.grads\n",
    "            \n",
    "        # 단어의 분산 표현 저장\n",
    "        self.word_vecs = W_in\n",
    "        \n",
    "    def forward(self, contexts, target):\n",
    "        h = 0\n",
    "        for i, layer in enumerate(self.in_layers):\n",
    "            h += layer.forward(contexts[:, i])\n",
    "        h /= len(self.in_layers)\n",
    "        loss = self.neg_loss.forward(h, target)\n",
    "        return loss\n",
    "            \n",
    "    \n",
    "    def backward(self, dout=1):\n",
    "        dout = self.neg_loss.backward(dout)\n",
    "        dout /= len(self.in_layers)\n",
    "        for layer in self.in_layers:\n",
    "            layer.backward(dout)\n",
    "            \n",
    "        return None"
   ]
  },
  {
   "cell_type": "code",
   "execution_count": null,
   "metadata": {},
   "outputs": [],
   "source": []
  },
  {
   "cell_type": "code",
   "execution_count": 11,
   "metadata": {
    "ExecuteTime": {
     "end_time": "2021-10-22T02:22:19.336317Z",
     "start_time": "2021-10-22T02:22:19.323363Z"
    }
   },
   "outputs": [],
   "source": [
    "import pickle\n",
    "from common.trainer import Trainer\n",
    "from common.optimizer import Adam\n",
    "from common.util import create_contexts_target\n",
    "from data import ptb"
   ]
  },
  {
   "cell_type": "code",
   "execution_count": 13,
   "metadata": {
    "ExecuteTime": {
     "end_time": "2021-10-22T02:22:57.774868Z",
     "start_time": "2021-10-22T02:22:51.614991Z"
    }
   },
   "outputs": [],
   "source": [
    "# hyperparameter\n",
    "window_size = 5\n",
    "hidden_size = 100\n",
    "batch_size = 100\n",
    "max_epoch = 10\n",
    "\n",
    "# load data\n",
    "corpus, word_to_id, id_to_word = ptb.load_data('train')\n",
    "vocab_size = len(word_to_id)\n",
    "contexts, target = create_contexts_target(corpus, window_size)"
   ]
  },
  {
   "cell_type": "code",
   "execution_count": 18,
   "metadata": {
    "ExecuteTime": {
     "end_time": "2021-10-22T02:24:21.569555Z",
     "start_time": "2021-10-22T02:24:21.423460Z"
    }
   },
   "outputs": [],
   "source": [
    "model = CBOW(vocab_size, hidden_size, window_size, corpus)\n",
    "optimizer = Adam()\n",
    "trainer = Trainer(model, optimizer)"
   ]
  },
  {
   "cell_type": "code",
   "execution_count": 24,
   "metadata": {
    "ExecuteTime": {
     "end_time": "2021-10-22T02:57:55.371204Z",
     "start_time": "2021-10-22T02:57:55.360445Z"
    }
   },
   "outputs": [],
   "source": [
    "from common.util import preprocess, create_contexts_target, convert_one_hot\n",
    "\n",
    "\n",
    "window_size = 1\n",
    "hidden_size = 5\n",
    "batch_size = 3\n",
    "max_epoch = 1000\n",
    "\n",
    "text = 'You say goodbye and I say hello.'\n",
    "corpus, word_to_id, id_to_word = preprocess(text)\n"
   ]
  },
  {
   "cell_type": "code",
   "execution_count": 32,
   "metadata": {
    "ExecuteTime": {
     "end_time": "2021-10-22T03:01:50.040832Z",
     "start_time": "2021-10-22T03:01:50.033888Z"
    }
   },
   "outputs": [],
   "source": [
    "vocab_size = len(word_to_id)\n",
    "contexts, target = create_contexts_target(corpus, window_size)"
   ]
  },
  {
   "cell_type": "code",
   "execution_count": 33,
   "metadata": {
    "ExecuteTime": {
     "end_time": "2021-10-22T03:01:50.278626Z",
     "start_time": "2021-10-22T03:01:50.271430Z"
    }
   },
   "outputs": [],
   "source": [
    "model = CBOW(vocab_size, hidden_size, window_size, corpus)\n",
    "optimizer = Adam()\n",
    "trainer = Trainer(model, optimizer)"
   ]
  },
  {
   "cell_type": "code",
   "execution_count": 34,
   "metadata": {
    "ExecuteTime": {
     "end_time": "2021-10-22T03:01:50.692024Z",
     "start_time": "2021-10-22T03:01:50.660570Z"
    }
   },
   "outputs": [
    {
     "ename": "AttributeError",
     "evalue": "'numpy.ndarray' object has no attribute 'eval_interval'",
     "output_type": "error",
     "traceback": [
      "\u001b[1;31m---------------------------------------------------------------------------\u001b[0m",
      "\u001b[1;31mAttributeError\u001b[0m                            Traceback (most recent call last)",
      "\u001b[1;32m<ipython-input-34-e026b02f1835>\u001b[0m in \u001b[0;36m<module>\u001b[1;34m\u001b[0m\n\u001b[1;32m----> 1\u001b[1;33m \u001b[0mTrainer\u001b[0m\u001b[1;33m.\u001b[0m\u001b[0mfit\u001b[0m\u001b[1;33m(\u001b[0m\u001b[0mcontexts\u001b[0m\u001b[1;33m,\u001b[0m \u001b[0mtarget\u001b[0m\u001b[1;33m,\u001b[0m \u001b[0mmax_epoch\u001b[0m\u001b[1;33m,\u001b[0m \u001b[0mbatch_size\u001b[0m\u001b[1;33m,\u001b[0m \u001b[0mepoch_print\u001b[0m\u001b[1;33m=\u001b[0m\u001b[1;36m2\u001b[0m\u001b[1;33m)\u001b[0m\u001b[1;33m\u001b[0m\u001b[1;33m\u001b[0m\u001b[0m\n\u001b[0m",
      "\u001b[1;32m~\\NLP_study\\NLP-from-scratch\\common\\trainer.py\u001b[0m in \u001b[0;36mfit\u001b[1;34m(self, x, t, max_epoch, batch_size, max_grad, eval_interval, epoch_print)\u001b[0m\n\u001b[0;32m     17\u001b[0m         \u001b[0mdata_size\u001b[0m \u001b[1;33m=\u001b[0m \u001b[0mlen\u001b[0m\u001b[1;33m(\u001b[0m\u001b[0mx\u001b[0m\u001b[1;33m)\u001b[0m\u001b[1;33m\u001b[0m\u001b[1;33m\u001b[0m\u001b[0m\n\u001b[0;32m     18\u001b[0m         \u001b[0mmax_iters\u001b[0m \u001b[1;33m=\u001b[0m \u001b[0mdata_size\u001b[0m \u001b[1;33m//\u001b[0m \u001b[0mbatch_size\u001b[0m\u001b[1;33m\u001b[0m\u001b[1;33m\u001b[0m\u001b[0m\n\u001b[1;32m---> 19\u001b[1;33m         \u001b[0mself\u001b[0m\u001b[1;33m.\u001b[0m\u001b[0meval_interval\u001b[0m \u001b[1;33m=\u001b[0m \u001b[0meval_interval\u001b[0m\u001b[1;33m\u001b[0m\u001b[1;33m\u001b[0m\u001b[0m\n\u001b[0m\u001b[0;32m     20\u001b[0m         \u001b[0mmodel\u001b[0m\u001b[1;33m,\u001b[0m \u001b[0moptimizer\u001b[0m \u001b[1;33m=\u001b[0m \u001b[0mself\u001b[0m\u001b[1;33m.\u001b[0m\u001b[0mmodel\u001b[0m\u001b[1;33m,\u001b[0m \u001b[0mself\u001b[0m\u001b[1;33m.\u001b[0m\u001b[0moptimizer\u001b[0m\u001b[1;33m\u001b[0m\u001b[1;33m\u001b[0m\u001b[0m\n\u001b[0;32m     21\u001b[0m         \u001b[0mtotal_loss\u001b[0m \u001b[1;33m=\u001b[0m \u001b[1;36m0\u001b[0m\u001b[1;33m\u001b[0m\u001b[1;33m\u001b[0m\u001b[0m\n",
      "\u001b[1;31mAttributeError\u001b[0m: 'numpy.ndarray' object has no attribute 'eval_interval'"
     ]
    }
   ],
   "source": [
    "Trainer.fit(contexts, target, max_epoch, batch_size, epoch_print=2)"
   ]
  },
  {
   "cell_type": "code",
   "execution_count": null,
   "metadata": {},
   "outputs": [],
   "source": []
  }
 ],
 "metadata": {
  "kernelspec": {
   "display_name": "Python 3",
   "language": "python",
   "name": "python3"
  },
  "toc": {
   "base_numbering": 1,
   "nav_menu": {},
   "number_sections": true,
   "sideBar": true,
   "skip_h1_title": false,
   "title_cell": "Table of Contents",
   "title_sidebar": "Contents",
   "toc_cell": false,
   "toc_position": {},
   "toc_section_display": true,
   "toc_window_display": false
  },
  "varInspector": {
   "cols": {
    "lenName": 16,
    "lenType": 16,
    "lenVar": 40
   },
   "kernels_config": {
    "python": {
     "delete_cmd_postfix": "",
     "delete_cmd_prefix": "del ",
     "library": "var_list.py",
     "varRefreshCmd": "print(var_dic_list())"
    },
    "r": {
     "delete_cmd_postfix": ") ",
     "delete_cmd_prefix": "rm(",
     "library": "var_list.r",
     "varRefreshCmd": "cat(var_dic_list()) "
    }
   },
   "types_to_exclude": [
    "module",
    "function",
    "builtin_function_or_method",
    "instance",
    "_Feature"
   ],
   "window_display": false
  }
 },
 "nbformat": 4,
 "nbformat_minor": 2
}
