{
 "cells": [
  {
   "cell_type": "markdown",
   "metadata": {},
   "source": [
    "# R\n"
   ]
  },
  {
   "cell_type": "markdown",
   "metadata": {},
   "source": [
    "- 기존 feed forward 방식에서 시계열 데이터의 성질(패턴)을 충분히 학습하기 위해 RNN(Recurrent Neural Network) 도입."
   ]
  },
  {
   "cell_type": "markdown",
   "metadata": {
    "heading_collapsed": true
   },
   "source": [
    "## 확률과 언어 모델"
   ]
  },
  {
   "cell_type": "markdown",
   "metadata": {
    "hidden": true
   },
   "source": [
    "- CBOW 모델의 목적 : 맥락(context)으로부터 타깃(target)을 정확하게 추측하는 것\n",
    "- 언어 모델(Language Model) : 단어 나열에 확률을 부여함.\n",
    "    - 단어의 sequence가 일어날 가능성이 어느정도인지 확률로 평가.(얼마나 자연스러운 단어 순서인지)\n",
    "    - t-1번째 까지의 단어가 나왔을 때, t번째 단어가 나올 확률을 계산하여(조건부 언어 모델, Conditional Language Model) 동시 확률을 구함\n",
    "    - Markov Chain을 통해 확률 근사\n",
    "<br/> <img src='../figs/e%205-8.png'> <br/>\n",
    "\n",
    "- CBOW(Continuous Bag-Of-Words)는 '가방안에 들어 있는 단어들'이라는 이름에서 알 수 있듯이 가방 속의 단어의 순서는 무시함.\n",
    "- 위 언어모델 확률 계산에서, 맥락의 크기를 고정하여(위의 경우 2) 확률을 근사했는데, CBOW의 경우 맥락의 크기 밖의 정보를 무시하는 문제가 발생함.\n",
    "<br/> <img src='../figs/fig%205-5.png'> <br/>\n",
    "- CBOW는 왼쪽 그림과 같이 단어 벡터들이 더해지면서 단어의 순서가 무시됨\n",
    "- 신경 확률론적 언어모델(Neural Probablistic Language Model)에서는 오른쪽 그림과 같이 단어를 더하는 대신 연결(concatenate)하는 방식을 사용\n",
    "- 이 때 W의 parameter가 늘어나는 문제를 RNN을 사용하여 해결!"
   ]
  },
  {
   "cell_type": "markdown",
   "metadata": {},
   "source": [
    "## RNN"
   ]
  },
  {
   "cell_type": "markdown",
   "metadata": {},
   "source": [
    "- 앞서 만들었던 단어의 분산 표현($x_t$)을 순서대로 RNN layer에 입력\n",
    "<br/> <img src='../figs/fig%205-8.png'> <br/>\n",
    "- 각 hidden layer에서 두 input을 바탕으로 output 계산\n",
    "<br/> <img src='../figs/e%205-9.png'> <br/>\n",
    "- 이때 $t$번째, '시각 $t$'에서의 출력 $h_t$를 은닉 상태($hidden~state$)라고 함"
   ]
  },
  {
   "cell_type": "markdown",
   "metadata": {},
   "source": [
    "### BPTT"
   ]
  },
  {
   "cell_type": "markdown",
   "metadata": {},
   "source": [
    "- BPTT(Backpropagation Through Time) : 시간 방향으로 펼친 신경망의 오차역전파법\n",
    "<br/> <img src='../figs/fig%205-10.png'> <br/>\n",
    "- 그러나 BPTT을 이용할 때, 계산량 뿐만 아니라 RNN layer 중간 데이터를 메모리에 유지해 두어야 하기 때문에 메모리 사용량도 증가"
   ]
  },
  {
   "cell_type": "markdown",
   "metadata": {},
   "source": [
    "### Truncated BPTT"
   ]
  },
  {
   "cell_type": "markdown",
   "metadata": {},
   "source": [
    "- 길어진 신경망 연결을 적당한 길이로 끊어서 계산량을 줄임\n",
    "- layer가 많아지면서 기울기 값이 점점 작아져서 0에 가까워지는 문제도 해결\n",
    "- forward propagation은 유지하고 backward의 연결만 적당한 길이로 끊어야 함\n",
    "<br/> <img src='../figs/fig%205-11.png'> <br/>\n",
    "- RNN 학습시에 forward propagation를 순서대로 수행하고 그 다음 backward propagaion을 수행함\n",
    "- 그러므로 기존 신경망에서 미니배치 학습을 수행할 떄 데이터를 무작위로 선택했던 것과 다르게 데이터를 순서대로 입력해야 함."
   ]
  },
  {
   "cell_type": "markdown",
   "metadata": {},
   "source": [
    "### Mini-batch"
   ]
  },
  {
   "cell_type": "markdown",
   "metadata": {},
   "source": [
    "- 랜덤하게 미니 배치를 선택했던 것과 다르게 데이터를 순서대로 입력해야함.\n",
    "- 각 미니배치마다 시작 위치를 batch-size만큼 옮겨줘야 함"
   ]
  },
  {
   "cell_type": "markdown",
   "metadata": {},
   "source": [
    "## 구현"
   ]
  },
  {
   "cell_type": "markdown",
   "metadata": {},
   "source": [
    "- 길이가 T인 시계열 데이터를 받아서, 각 시각의 hidden state T개를 출력.\n",
    "- 이때 입력($xs$), 출력($hs$)를 묶은 layer를 Time RNN layer라고 함\n",
    "<br/> <img src='../figs/fig%205-17.png'> <br/>"
   ]
  },
  {
   "cell_type": "code",
   "execution_count": 15,
   "metadata": {
    "ExecuteTime": {
     "end_time": "2021-10-23T07:00:44.361193Z",
     "start_time": "2021-10-23T07:00:44.340012Z"
    }
   },
   "outputs": [],
   "source": [
    "# RNN layer\n",
    "class RNN:\n",
    "    def __init__(self, Wx, Wh, b):\n",
    "        self.params = [Wx, Wh, b]\n",
    "        self.grads = [np.zeros_like(Wx), np.zeros_like(Wh), np.zeros_like(b)]\n",
    "        self.cache = None\n",
    "        \n",
    "    def forward(self, x, h_prev):\n",
    "        Wx, Wh, b = self.params\n",
    "        t = np.dot(h_prev, Wh) + np.dot(x, Wx) + b\n",
    "        h_next = np.tanh(t)\n",
    "        \n",
    "        self.cache = (x, h_prev, h_next)\n",
    "        \n",
    "        return h_next\n",
    "    \n",
    "    def backward(self, dh_next):\n",
    "        Wx, Wh, b = self.params\n",
    "        x, h_prev, h_next = self.cache\n",
    "        \n",
    "        dt = dh_next * (1 - h_next ** 2)\n",
    "        db = np.sum(dt, axis=0)\n",
    "        dWh = np.dot(h_prev.T, dt)\n",
    "        dh_prev = np.dot(dt, Wh.T)\n",
    "        dWx = np.dot(x.T, dt)\n",
    "        dx = np.dot(dt, Wx.T)\n",
    "        \n",
    "        self.grads[0][...] = dWx\n",
    "        self.grads[1][...] = dWh\n",
    "        self.grads[2][...] = db\n",
    "        \n",
    "        return dx, dh_prev\n",
    "        "
   ]
  },
  {
   "cell_type": "markdown",
   "metadata": {},
   "source": [
    "### Time RNN"
   ]
  },
  {
   "cell_type": "markdown",
   "metadata": {},
   "source": [
    "- stateful(True/False) : Time RNN이 hidden state를 유지할지"
   ]
  },
  {
   "cell_type": "code",
   "execution_count": 16,
   "metadata": {
    "ExecuteTime": {
     "end_time": "2021-10-23T07:01:52.337835Z",
     "start_time": "2021-10-23T07:01:52.304307Z"
    }
   },
   "outputs": [],
   "source": [
    "class TimeRNN:\n",
    "    def __init__(self, Wx, Wh, b, stateful=False):\n",
    "        self.params = [Wx, Wh, b]\n",
    "        self.grads = [np.zeros_like(Wx), np.zeros_like(Wh), np.zeros_like(b)]\n",
    "        self.layers = None\n",
    "\n",
    "        self.h, self.dh = None, None\n",
    "        self.stateful = stateful\n",
    "\n",
    "    def forward(self, xs):\n",
    "        Wx, Wh, b = self.params\n",
    "        N, T, D = xs.shape\n",
    "        D, H = Wx.shape\n",
    "        \n",
    "        self.layers = []\n",
    "        hs = np.empty((N, T, H), dtype='f')\n",
    "        \n",
    "        if not self.stateful or self.h is None:\n",
    "            self.h = np.zeros((N, H), dtype='f')\n",
    "            \n",
    "        for t in range(T):\n",
    "            layer = RNN(*self.params)\n",
    "            self.h = layer.forward(xs[:, t, :], self.h)\n",
    "            hs[:, t, :] = self.h\n",
    "            self.layers.append(layer)\n",
    "        \n",
    "        return hs\n",
    "    \n",
    "    def backward(self, dhs):\n",
    "        Wx, Wh, b = self.params\n",
    "        N, T, H = dhs.shape\n",
    "        D, H = Wx.shape\n",
    "        \n",
    "        dxs = np.empty((N, T, D), dtype='f')\n",
    "        dh = 0\n",
    "        grads = [0, 0, 0]\n",
    "        for t in reversed(range(T)):\n",
    "            layer = self.layers[t]\n",
    "            dx, dh = layer.backward(dhs[:, t, :] + dh)\n",
    "            dxs[:, t, :] = dx\n",
    "            \n",
    "            for i, grad in enumerate(grads):\n",
    "                self.grads[i][...] = grad\n",
    "            self.dh = dh\n",
    "            \n",
    "        return dxs\n",
    "        \n",
    "    def set_state(self, h):\n",
    "        self.h = h\n",
    "    \n",
    "    def reset_state(self):\n",
    "        self.h = None\n",
    "    "
   ]
  },
  {
   "cell_type": "markdown",
   "metadata": {},
   "source": [
    "### RNNLM(RNN Language Model)"
   ]
  },
  {
   "cell_type": "markdown",
   "metadata": {},
   "source": [
    "1. 문장을 단어의 단어들을 단어의 분산 표현(vector)로 변환\n",
    "2. 해당 vector들을 순서대로 RNN layer에 입력\n",
    "3. RNNLM은 지금까지 입력된 단어를 기억하고 다음에 출현할 단어를 예측\n",
    "<br/> <img src='../figs/fig%205-25.png'> <br/>"
   ]
  },
  {
   "cell_type": "markdown",
   "metadata": {},
   "source": [
    "### Time layers"
   ]
  },
  {
   "cell_type": "markdown",
   "metadata": {},
   "source": [
    "- 각 layer 종류 XX마다 Time XX layer를 구현\n",
    "    - Time Affine\n",
    "    - Time Embedding\n",
    "    - Time Softmax with Loss : T개의 Softmax with Loss layer 각각의 loss를 평균\n",
    "    - Time Sigmoid with Loss"
   ]
  },
  {
   "cell_type": "code",
   "execution_count": 3,
   "metadata": {
    "ExecuteTime": {
     "end_time": "2021-10-23T06:57:34.783310Z",
     "start_time": "2021-10-23T06:57:34.751628Z"
    }
   },
   "outputs": [],
   "source": [
    "import numpy as np\n",
    "import sys\n",
    "sys.path.append('..')\n",
    "from common.layers import *\n",
    "from common.funcs import cross_entropy_error, softmax, sigmoid"
   ]
  },
  {
   "cell_type": "markdown",
   "metadata": {},
   "source": [
    "- Time Affine"
   ]
  },
  {
   "cell_type": "code",
   "execution_count": 4,
   "metadata": {
    "ExecuteTime": {
     "end_time": "2021-10-23T06:57:35.399778Z",
     "start_time": "2021-10-23T06:57:35.375522Z"
    }
   },
   "outputs": [],
   "source": [
    "class TimeAffine:\n",
    "    def __init__(self, W, b):\n",
    "        self.params = [W, b]\n",
    "        self.grads = [np.zeros_like(W), np.zeros_like(b)]\n",
    "        self.x = None\n",
    "\n",
    "    def forward(self, x):\n",
    "        N, T, D = x.shape\n",
    "        W, b = self.params\n",
    "        \n",
    "        rx = x.reshape(N*T, -1)\n",
    "        out = np.dot(rx, W) + b\n",
    "        self.x = x\n",
    "        return out.reshape(N, T, -1)\n",
    "\n",
    "    def backward(self, dout):\n",
    "        x = self.x\n",
    "        N, T, D = x.shape\n",
    "        W, b = self.params\n",
    "        \n",
    "        dout = dout.reshape(N*T, -1)\n",
    "        rx = x.reshape(N*T, -1)\n",
    "        \n",
    "        dx = np.dot(dout, W.T)\n",
    "        dx = dx.reshape(*x.shape)\n",
    "        dW = np.dot(rx.T, dout)\n",
    "        db = np.sum(dout, axis=0)\n",
    "\n",
    "        self.grads[0][...] = dW\n",
    "        self.grads[1][...] = db\n",
    "        return dx"
   ]
  },
  {
   "cell_type": "markdown",
   "metadata": {},
   "source": [
    "- Time Embedding"
   ]
  },
  {
   "cell_type": "code",
   "execution_count": 5,
   "metadata": {
    "ExecuteTime": {
     "end_time": "2021-10-23T06:57:35.864268Z",
     "start_time": "2021-10-23T06:57:35.837827Z"
    }
   },
   "outputs": [],
   "source": [
    "class TimeEmbedding:\n",
    "    def __init__(self, W):\n",
    "        self.params = [W]\n",
    "        self.grads = [np.zeros_like(W)]\n",
    "        self.layers = None\n",
    "        self.W = W\n",
    "        \n",
    "    def forward(self, xs):\n",
    "        N, T = xs.shape\n",
    "        V, D = self.W.shape\n",
    "\n",
    "        output = np.empty((N, T, D), dtype='f')\n",
    "        self.layers = []\n",
    "        \n",
    "        for t in range(T):\n",
    "            layer = Embedding(self.W)\n",
    "            output[:, t, :] = layer.forward(xs[:, t])\n",
    "            self.layers.append(layer)\n",
    "        \n",
    "        return output\n",
    "    \n",
    "    def backward(self, dout):\n",
    "        N, T, D = dout.shape\n",
    "        \n",
    "        grad = 0\n",
    "        for t in range(T):\n",
    "            layer = self.layers[t]\n",
    "            layer.backward(dout[:, t, :])\n",
    "            grad += layer.grads[0]\n",
    "            \n",
    "        self.grads[0][...] = grad\n",
    "        return None"
   ]
  },
  {
   "cell_type": "markdown",
   "metadata": {},
   "source": [
    "- Time Softmax with Loss"
   ]
  },
  {
   "cell_type": "code",
   "execution_count": 30,
   "metadata": {
    "ExecuteTime": {
     "end_time": "2021-10-23T07:04:16.903180Z",
     "start_time": "2021-10-23T07:04:16.874774Z"
    }
   },
   "outputs": [],
   "source": [
    "class TimeSoftmaxWithLoss:\n",
    "    def __init__(self):\n",
    "        self.params, self.grads = [], []\n",
    "        self.cache = None\n",
    "        self.ignore_label = -1\n",
    "\n",
    "    def forward(self, xs, ts):\n",
    "        N, T, V = xs.shape\n",
    "        \n",
    "        if ts.ndim == 3: # 정답 label이 one-hot vector일 때\n",
    "            ts = ts.argmax(axis=2)\n",
    "        \n",
    "        # ignore_label에 해당하는 데이터 처리\n",
    "        mask = (ts != self.ignore_label)\n",
    "        \n",
    "        xs = xs.reshape(N * T, V)\n",
    "        ts = ts.reshape(N * T)\n",
    "        mask = mask.reshape(N * T)\n",
    "        \n",
    "        ys = softmax(xs)\n",
    "        ls = mask * np.log(ys[np.arange(N * T), ts]) # ignore_label에 해당하는 데이터 손실 0으로 처리\n",
    "        loss = -np.sum(ls) / mask.sum()\n",
    "        \n",
    "        self.cache = (ts, ys, mask, (N, T, V))\n",
    "        \n",
    "        return loss\n",
    "        \n",
    "    def backward(self, dout=1):\n",
    "        ts, ys, mask, (N, T, V) = self.cache\n",
    "        \n",
    "        dx = ys\n",
    "        dx[np.arange(N * T), ts] -= 1\n",
    "        dx = dx * dout / mask.sum()\n",
    "        dx *= mask[:, np.newaxis] # ignoer_label에 해당하는 데이터 기울기를 0으로\n",
    "        \n",
    "        dx = dx.reshape((N, T, V))\n",
    "        \n",
    "        return dx"
   ]
  },
  {
   "cell_type": "markdown",
   "metadata": {},
   "source": [
    "- Time Sigmoid with Loss"
   ]
  },
  {
   "cell_type": "code",
   "execution_count": 31,
   "metadata": {
    "ExecuteTime": {
     "end_time": "2021-10-23T07:04:17.647899Z",
     "start_time": "2021-10-23T07:04:17.629149Z"
    }
   },
   "outputs": [],
   "source": [
    "class TimeSigmoidWithLoss:\n",
    "    def __init__(self):\n",
    "        self.params, self.grads = [], []\n",
    "        self.xs_shape = None\n",
    "        self.layers= None\n",
    "\n",
    "    def forward(self, xs, ts):\n",
    "        N, T = xs.shape\n",
    "        self.xs_shape = xs.shape\n",
    "        \n",
    "        self.layers = []\n",
    "        loss = 0\n",
    "        \n",
    "        for t in range(T):\n",
    "            layer = SigmoidWithLoss()\n",
    "            loss += layer.forward(xs[:, t], ts[:, t])\n",
    "            self.layers.append(layer)\n",
    "            \n",
    "        return loss/T\n",
    "\n",
    "    def backward(self, dout=1):\n",
    "        N, T = self.xs_shape\n",
    "        dxs = np.empty(self.xs_shape, dtype='f')\n",
    "        \n",
    "        dout /= T\n",
    "        \n",
    "        for t in range(T):\n",
    "            layer = self.layers[t]\n",
    "            dxs[:, t] = layer.backward(dout)\n",
    "            \n",
    "        return dxs"
   ]
  },
  {
   "cell_type": "markdown",
   "metadata": {},
   "source": [
    "### RNNLM 구현"
   ]
  },
  {
   "cell_type": "markdown",
   "metadata": {},
   "source": [
    "- SimpleRnnlm : 아래와 같이 4개의 time layer를 쌓은 신경망\n",
    "<br/> <img src = '../figs/fig%205-30.png' width='300px'> <br/>\n",
    "- Xavier initialization : 이전 layer의 노드의 개수($n$)을 사용해 표준편차가 $1 \\over \\sqrt n$인 분포로 initialize\n",
    "    - non-linear(tanh, sigmoid 등)에서 좋은 성능\n",
    "    - ReLU의 경우 출력값이 0으로 수렴하는 문제가 있음"
   ]
  },
  {
   "cell_type": "code",
   "execution_count": 23,
   "metadata": {
    "ExecuteTime": {
     "end_time": "2021-10-23T07:02:53.150693Z",
     "start_time": "2021-10-23T07:02:53.114733Z"
    }
   },
   "outputs": [],
   "source": [
    "class SimpleRnnlm:\n",
    "    def __init__(self, vocab_size, wordvec_size, hidden_size):\n",
    "        V, D, H = vocab_size, wordvec_size, hidden_size\n",
    "        rn = np.random.randn\n",
    "        \n",
    "        # initialize weight(Xavier)\n",
    "        embed_W = (rn(V, D) / 100).astype('f')\n",
    "        rnn_Wx = (rn(D, H) / np.sqrt(D)).astype('f')\n",
    "        rnn_Wh = (rn(H, H) / np.sqrt(H)).astype('f')\n",
    "        rnn_b = np.zeros(H).astype('f')\n",
    "        affine_W = (rn(H, V) / np.sqrt(H)).astype('f')\n",
    "        affine_b = np.zeros(V).astype('f')\n",
    "        \n",
    "        # layer 생성\n",
    "        self.layers = [\n",
    "            TimeEmbedding(embed_W),\n",
    "            TimeRNN(rnn_Wx, rnn_Wh, rnn_b, stateful=True),\n",
    "            TimeAffine(affine_W, affine_b)\n",
    "        ]\n",
    "        self.loss_layer = TimeSoftmaxWithLoss()\n",
    "        self.rnn_layer = self.layers[1]\n",
    "        \n",
    "        # list\n",
    "        self.params, self.grads = [], []\n",
    "        for layer in self.layers:\n",
    "            self.params += layer.params\n",
    "            self.grads += layer.grads\n",
    "            \n",
    "        \n",
    "    def forward(self, xs, ts):\n",
    "        for layer in self.layers:\n",
    "            xs = layer.forward(xs)\n",
    "        loss = self.loss_layer.forward(xs, ts)\n",
    "        \n",
    "        return loss\n",
    "    \n",
    "    def backward(self, dout=1):\n",
    "        dout = self.loss_layer.backward(dout)\n",
    "        for layer in reversed(self.layers):\n",
    "            dout = layer.backward(dout)\n",
    "            \n",
    "        return dout\n",
    "    \n",
    "    def reset_state(self):\n",
    "        '''\n",
    "        hidden state 초기화\n",
    "        '''\n",
    "        self.rnn_layer.reset_state()"
   ]
  },
  {
   "cell_type": "markdown",
   "metadata": {},
   "source": [
    "## 평가"
   ]
  },
  {
   "cell_type": "markdown",
   "metadata": {},
   "source": [
    "### perplexity"
   ]
  },
  {
   "cell_type": "markdown",
   "metadata": {},
   "source": [
    "- '확률의 역수' : 값이 낮을수록 언어 모델의 예측 성능이 좋은 모델\n",
    "- $perplexity = e^L =  exp~(- {1 \\over N} \\sum\\limits_{n} \\sum\\limits_{k} t_{nk}~log y_{nk})$\n",
    "- $N$ : 데이터의 총 개수, $t_n$ : 정답 레이블, $t_{nk}$ : n개째 데이터의 k번째 값, $y_{nk}$ : 확률분포\n",
    "- 위 값들을 통해 계산한 $L$ 은 Cross-entroy error를 통해 계산한 신경망의 손실과 같음"
   ]
  },
  {
   "cell_type": "code",
   "execution_count": 24,
   "metadata": {
    "ExecuteTime": {
     "end_time": "2021-10-23T07:02:53.900907Z",
     "start_time": "2021-10-23T07:02:53.893048Z"
    }
   },
   "outputs": [],
   "source": [
    "def perplexity():\n",
    "    d"
   ]
  },
  {
   "cell_type": "markdown",
   "metadata": {},
   "source": [
    "## 학습"
   ]
  },
  {
   "cell_type": "code",
   "execution_count": 25,
   "metadata": {
    "ExecuteTime": {
     "end_time": "2021-10-23T07:02:54.668258Z",
     "start_time": "2021-10-23T07:02:54.654647Z"
    }
   },
   "outputs": [],
   "source": [
    "import matplotlib.pyplot as plt\n",
    "from common.optimizer import SGD\n",
    "from data import ptb"
   ]
  },
  {
   "cell_type": "code",
   "execution_count": 40,
   "metadata": {
    "ExecuteTime": {
     "end_time": "2021-10-23T07:06:59.079418Z",
     "start_time": "2021-10-23T07:06:59.064089Z"
    }
   },
   "outputs": [],
   "source": [
    "# hyperparameter 설정\n",
    "batch_size = 10\n",
    "wordvec_size = 100\n",
    "hidden_size = 100 # RNN의 hidden state의 벡터의 길이\n",
    "time_size = 5 # Truncated BPTT가 한번에 펼치는 시간의 길이\n",
    "lr = 0.1\n",
    "max_epoch = 100"
   ]
  },
  {
   "cell_type": "code",
   "execution_count": 41,
   "metadata": {
    "ExecuteTime": {
     "end_time": "2021-10-23T07:07:00.052766Z",
     "start_time": "2021-10-23T07:07:00.006062Z"
    }
   },
   "outputs": [
    {
     "name": "stdout",
     "output_type": "stream",
     "text": [
      "corpus size : 1000, vocab size : 418\n"
     ]
    }
   ],
   "source": [
    "# data load\n",
    "corpus, word_to_id, id_to_word = ptb.load_data('train')\n",
    "corpus_size = 1000\n",
    "corpus = corpus[:corpus_size]\n",
    "vocab_size = int(max(corpus)+1)\n",
    "\n",
    "xs = corpus[:-1]\n",
    "ts = corpus[1:]\n",
    "data_size = len(xs)\n",
    "print(f'corpus size : {corpus_size}, vocab size : {vocab_size}')\n",
    "\n",
    "# 변수 설정\n",
    "max_iters = data_size // (batch_size * time_size)\n",
    "time_idx = 0\n",
    "total_loss = 0\n",
    "loss_count = 0\n",
    "ppl_list = []"
   ]
  },
  {
   "cell_type": "code",
   "execution_count": 42,
   "metadata": {
    "ExecuteTime": {
     "end_time": "2021-10-23T07:07:01.189713Z",
     "start_time": "2021-10-23T07:07:01.164348Z"
    }
   },
   "outputs": [],
   "source": [
    "# 모델 생성\n",
    "model = SimpleRnnlm(vocab_size, wordvec_size, hidden_size)\n",
    "optimizer = SGD(lr)"
   ]
  },
  {
   "cell_type": "markdown",
   "metadata": {},
   "source": [
    "- 학습"
   ]
  },
  {
   "cell_type": "code",
   "execution_count": 43,
   "metadata": {
    "ExecuteTime": {
     "end_time": "2021-10-23T07:07:14.884207Z",
     "start_time": "2021-10-23T07:07:02.055882Z"
    }
   },
   "outputs": [
    {
     "name": "stdout",
     "output_type": "stream",
     "text": [
      "| epoch : 1 | perplexity : 414.6209755862757 |\n",
      "| epoch : 2 | perplexity : 406.1885653513905 |\n",
      "| epoch : 3 | perplexity : 395.4628658685468 |\n",
      "| epoch : 4 | perplexity : 378.35236129675485 |\n",
      "| epoch : 5 | perplexity : 366.1856170157493 |\n",
      "| epoch : 6 | perplexity : 354.191880975869 |\n",
      "| epoch : 7 | perplexity : 344.57856882471776 |\n",
      "| epoch : 8 | perplexity : 331.4737590365354 |\n",
      "| epoch : 9 | perplexity : 318.2593743052612 |\n",
      "| epoch : 10 | perplexity : 305.9840191114381 |\n",
      "| epoch : 11 | perplexity : 292.81834082706536 |\n",
      "| epoch : 12 | perplexity : 281.54935074136347 |\n",
      "| epoch : 13 | perplexity : 269.83657105525566 |\n",
      "| epoch : 14 | perplexity : 258.98942684398656 |\n",
      "| epoch : 15 | perplexity : 248.69355655552775 |\n",
      "| epoch : 16 | perplexity : 236.7400486161392 |\n",
      "| epoch : 17 | perplexity : 224.27638588249593 |\n",
      "| epoch : 18 | perplexity : 213.92731151485285 |\n",
      "| epoch : 19 | perplexity : 205.62306209405713 |\n",
      "| epoch : 20 | perplexity : 200.49764476537203 |\n",
      "| epoch : 21 | perplexity : 193.66021180447368 |\n",
      "| epoch : 22 | perplexity : 185.24640673793252 |\n",
      "| epoch : 23 | perplexity : 177.87764930207234 |\n",
      "| epoch : 24 | perplexity : 176.71877856818656 |\n",
      "| epoch : 25 | perplexity : 171.8442929574679 |\n",
      "| epoch : 26 | perplexity : 169.5780501093459 |\n",
      "| epoch : 27 | perplexity : 163.2297116439843 |\n",
      "| epoch : 28 | perplexity : 160.26484787255706 |\n",
      "| epoch : 29 | perplexity : 157.79490143703734 |\n",
      "| epoch : 30 | perplexity : 151.4927692984216 |\n",
      "| epoch : 31 | perplexity : 151.15472204168918 |\n",
      "| epoch : 32 | perplexity : 147.07616862526393 |\n",
      "| epoch : 33 | perplexity : 145.73098564342956 |\n",
      "| epoch : 34 | perplexity : 142.2625787695353 |\n",
      "| epoch : 35 | perplexity : 141.33875453848015 |\n",
      "| epoch : 36 | perplexity : 136.56606246907015 |\n",
      "| epoch : 37 | perplexity : 133.01644904368538 |\n",
      "| epoch : 38 | perplexity : 131.25907531062202 |\n",
      "| epoch : 39 | perplexity : 127.33125837370964 |\n",
      "| epoch : 40 | perplexity : 124.1875102115692 |\n",
      "| epoch : 41 | perplexity : 125.31008391831422 |\n",
      "| epoch : 42 | perplexity : 120.38473039111155 |\n",
      "| epoch : 43 | perplexity : 116.42880476053062 |\n",
      "| epoch : 44 | perplexity : 114.70994728076741 |\n",
      "| epoch : 45 | perplexity : 112.33215879557697 |\n",
      "| epoch : 46 | perplexity : 112.39150414563538 |\n",
      "| epoch : 47 | perplexity : 108.3106393785315 |\n",
      "| epoch : 48 | perplexity : 103.90198683930005 |\n",
      "| epoch : 49 | perplexity : 102.49206830972331 |\n",
      "| epoch : 50 | perplexity : 100.55252590782936 |\n",
      "| epoch : 51 | perplexity : 97.85794417537893 |\n",
      "| epoch : 52 | perplexity : 96.61123257945378 |\n",
      "| epoch : 53 | perplexity : 94.62375701445521 |\n",
      "| epoch : 54 | perplexity : 92.63119854691425 |\n",
      "| epoch : 55 | perplexity : 91.51686542501174 |\n",
      "| epoch : 56 | perplexity : 87.66390386869016 |\n",
      "| epoch : 57 | perplexity : 86.67441282516366 |\n",
      "| epoch : 58 | perplexity : 83.36943705594857 |\n",
      "| epoch : 59 | perplexity : 81.72809798066285 |\n",
      "| epoch : 60 | perplexity : 79.90400673665046 |\n",
      "| epoch : 61 | perplexity : 79.26315091445119 |\n",
      "| epoch : 62 | perplexity : 77.05667269685765 |\n",
      "| epoch : 63 | perplexity : 73.16542483516096 |\n",
      "| epoch : 64 | perplexity : 72.47572513522775 |\n",
      "| epoch : 65 | perplexity : 72.29264414082606 |\n",
      "| epoch : 66 | perplexity : 69.84781760776154 |\n",
      "| epoch : 67 | perplexity : 68.97754823041812 |\n",
      "| epoch : 68 | perplexity : 64.8410835687248 |\n",
      "| epoch : 69 | perplexity : 63.691214355439584 |\n",
      "| epoch : 70 | perplexity : 62.69043040724442 |\n",
      "| epoch : 71 | perplexity : 61.38031229214043 |\n",
      "| epoch : 72 | perplexity : 59.56395567863522 |\n",
      "| epoch : 73 | perplexity : 58.541966739737866 |\n",
      "| epoch : 74 | perplexity : 57.16137317953002 |\n",
      "| epoch : 75 | perplexity : 56.89150491214917 |\n",
      "| epoch : 76 | perplexity : 53.91030769601761 |\n",
      "| epoch : 77 | perplexity : 53.21597583953492 |\n",
      "| epoch : 78 | perplexity : 51.56915448669411 |\n",
      "| epoch : 79 | perplexity : 50.18792721297824 |\n",
      "| epoch : 80 | perplexity : 48.50528362369456 |\n",
      "| epoch : 81 | perplexity : 48.06277875069828 |\n",
      "| epoch : 82 | perplexity : 47.92769972223785 |\n",
      "| epoch : 83 | perplexity : 45.06740292097846 |\n",
      "| epoch : 84 | perplexity : 44.62081376909832 |\n",
      "| epoch : 85 | perplexity : 43.85651019032933 |\n",
      "| epoch : 86 | perplexity : 42.480526185347024 |\n",
      "| epoch : 87 | perplexity : 42.048636850470544 |\n",
      "| epoch : 88 | perplexity : 39.95544879188507 |\n",
      "| epoch : 89 | perplexity : 38.541989052749116 |\n",
      "| epoch : 90 | perplexity : 37.630963039952974 |\n",
      "| epoch : 91 | perplexity : 37.556579456676694 |\n",
      "| epoch : 92 | perplexity : 36.3231099137912 |\n",
      "| epoch : 93 | perplexity : 35.859508018861995 |\n",
      "| epoch : 94 | perplexity : 35.24834062981909 |\n",
      "| epoch : 95 | perplexity : 34.007155712771805 |\n",
      "| epoch : 96 | perplexity : 33.07419612580433 |\n",
      "| epoch : 97 | perplexity : 32.46896509457438 |\n",
      "| epoch : 98 | perplexity : 31.148285495913306 |\n",
      "| epoch : 99 | perplexity : 30.593678689564538 |\n",
      "| epoch : 100 | perplexity : 29.621558922494202 |\n"
     ]
    }
   ],
   "source": [
    "# 각 mini-batch에서 샘플을 읽는 시작 위치 계산\n",
    "jump = (corpus_size - 1) // batch_size\n",
    "offsets = [i * jump for i in range(batch_size)]\n",
    "\n",
    "# 각 epoch, iter마다 순차적으로\n",
    "for epoch in range(max_epoch):\n",
    "    for iters in range(max_iters):\n",
    "        # mini-batch 생성\n",
    "        batch_x = np.empty((batch_size, time_size), dtype='i')\n",
    "        batch_t = np.empty((batch_size, time_size), dtype='i')\n",
    "        for t in range(time_size):\n",
    "            for i, offset in enumerate(offsets):\n",
    "                batch_x[i, t] = xs[(offset + time_idx) % data_size]\n",
    "                batch_t[i, t] = ts[(offset + time_idx) % data_size]\n",
    "            time_idx += 1\n",
    "            \n",
    "        # 기울기 갱신\n",
    "        loss = model.forward(batch_x, batch_t)\n",
    "        model.backward()\n",
    "        optimizer.update(model.params, model.grads)\n",
    "        total_loss += loss\n",
    "        loss_count += 1\n",
    "    \n",
    "    # 각 epoch마다 평가(perplexity)\n",
    "    ppl = np.exp(total_loss / loss_count)\n",
    "    print(f'| epoch : {epoch + 1} | perplexity : {ppl} |')\n",
    "    ppl_list.append(float(ppl))\n",
    "    total_loss, loss_count = 0, 0"
   ]
  },
  {
   "cell_type": "code",
   "execution_count": 44,
   "metadata": {
    "ExecuteTime": {
     "end_time": "2021-10-23T07:07:18.203922Z",
     "start_time": "2021-10-23T07:07:17.766363Z"
    }
   },
   "outputs": [
    {
     "data": {
      "text/plain": [
       "[<matplotlib.lines.Line2D at 0x23e4bb6b308>]"
      ]
     },
     "execution_count": 44,
     "metadata": {},
     "output_type": "execute_result"
    },
    {
     "data": {
      "image/png": "[encoded data removed]",
      "text/plain": [
       "<Figure size 432x288 with 1 Axes>"
      ]
     },
     "metadata": {
      "needs_background": "light"
     },
     "output_type": "display_data"
    }
   ],
   "source": [
    "plt.plot(ppl_list)"
   ]
  },
  {
   "cell_type": "code",
   "execution_count": null,
   "metadata": {},
   "outputs": [],
   "source": []
  }
 ],
 "metadata": {
  "kernelspec": {
   "display_name": "Python 3",
   "language": "python",
   "name": "python3"
  },
  "toc": {
   "base_numbering": 1,
   "nav_menu": {},
   "number_sections": true,
   "sideBar": true,
   "skip_h1_title": false,
   "title_cell": "Table of Contents",
   "title_sidebar": "Contents",
   "toc_cell": false,
   "toc_position": {},
   "toc_section_display": true,
   "toc_window_display": false
  },
  "varInspector": {
   "cols": {
    "lenName": 16,
    "lenType": 16,
    "lenVar": 40
   },
   "kernels_config": {
    "python": {
     "delete_cmd_postfix": "",
     "delete_cmd_prefix": "del ",
     "library": "var_list.py",
     "varRefreshCmd": "print(var_dic_list())"
    },
    "r": {
     "delete_cmd_postfix": ") ",
     "delete_cmd_prefix": "rm(",
     "library": "var_list.r",
     "varRefreshCmd": "cat(var_dic_list()) "
    }
   },
   "types_to_exclude": [
    "module",
    "function",
    "builtin_function_or_method",
    "instance",
    "_Feature"
   ],
   "window_display": false
  }
 },
 "nbformat": 4,
 "nbformat_minor": 2
}
