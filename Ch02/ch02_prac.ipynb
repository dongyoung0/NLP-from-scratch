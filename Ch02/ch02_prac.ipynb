{
 "cells": [
  {
   "cell_type": "markdown",
   "metadata": {},
   "source": [
    "# 자연어와 단어의 분산 표현"
   ]
  },
  {
   "cell_type": "markdown",
   "metadata": {},
   "source": [
    "자연어(natural language) : 한국어, 영어 등 우리가 평소에 쓰는 말  \n",
    "자연어처리(NLP) : 우리의 말을 컴퓨터에게 이해시키기 위한 기술(분야)\n",
    "- 자연어를 컴퓨터에게 이해 시키는데에는 '단어의 의미'를 이해시키는 것이 중요"
   ]
  },
  {
   "cell_type": "markdown",
   "metadata": {},
   "source": [
    "## 단어의 의미\n",
    "단어의 의미를 잘 파악하여 표현하는 방법들\n",
    "- 시소러스를 활용한 기법\n",
    "- 통계 기반 기법\n",
    "- 추론 기반 기법(word2vec)"
   ]
  },
  {
   "cell_type": "markdown",
   "metadata": {},
   "source": [
    "## 시소러스(thesaurus) - 유의어 사전\n",
    "- '상위와 하위', '전체와 부분' 등 세세한 관계까지 정의  \n",
    "<br/> <img src=\"../figs/fig%202-1.png\" style=\"width: 300px;\"> <br/> \n",
    "- 아래 단어 네트워크를 이용하여 컴퓨터에게 단어 사이의 관계를 가르침\n",
    "<br/> <img src=\"../figs/fig%202-2.png\" style=\"width: 300px;\">\n"
   ]
  },
  {
   "cell_type": "markdown",
   "metadata": {},
   "source": [
    "### WordNet\n",
    "- 1985년 프린스턴 대학교에서 구축하기 시작한 전통있는 시소러스"
   ]
  },
  {
   "cell_type": "markdown",
   "metadata": {},
   "source": [
    "### 시소러스의 문제점\n",
    "- 시대 변화에 대응하기 어려움\n",
    "- 수작업을 하는데 드는 비용이 큼\n",
    "- 단어 사이의 미묘한 차이를 표현할 수 없음"
   ]
  },
  {
   "cell_type": "markdown",
   "metadata": {},
   "source": [
    "## 통계 기반 기법"
   ]
  },
  {
   "cell_type": "markdown",
   "metadata": {},
   "source": [
    "- 말뭉치(corpus) : 자연어 처리 연구나 어플리케이션을 염두에 두고 수집된 대량의 텍스트 데이터"
   ]
  },
  {
   "cell_type": "code",
   "execution_count": 1,
   "metadata": {
    "ExecuteTime": {
     "end_time": "2021-10-16T09:13:56.247632Z",
     "start_time": "2021-10-16T09:13:56.238008Z"
    }
   },
   "outputs": [],
   "source": [
    "# 파이썬으로 말뭉치 전처리하기\n",
    "text = 'Hi my name is Dongyoung, what is your name?'"
   ]
  },
  {
   "cell_type": "code",
   "execution_count": 2,
   "metadata": {
    "ExecuteTime": {
     "end_time": "2021-10-16T09:13:58.377807Z",
     "start_time": "2021-10-16T09:13:58.362222Z"
    }
   },
   "outputs": [
    {
     "data": {
      "text/plain": [
       "'hi my name is dongyoung , what is your name ?'"
      ]
     },
     "execution_count": 2,
     "metadata": {},
     "output_type": "execute_result"
    }
   ],
   "source": [
    "text = text.lower() # 소문자로\n",
    "text = text.replace(',', ' ,')\n",
    "text = text.replace('?', ' ?')\n",
    "text"
   ]
  },
  {
   "cell_type": "markdown",
   "metadata": {},
   "source": [
    "- 정규표현식(regular expression) 호출 시 더 효율적으로 분할 가능"
   ]
  },
  {
   "cell_type": "code",
   "execution_count": 3,
   "metadata": {
    "ExecuteTime": {
     "end_time": "2021-10-16T09:14:00.145502Z",
     "start_time": "2021-10-16T09:14:00.137791Z"
    }
   },
   "outputs": [
    {
     "data": {
      "text/plain": [
       "['hi', 'my', 'name', 'is', 'dongyoung', ',', 'what', 'is', 'your', 'name', '?']"
      ]
     },
     "execution_count": 3,
     "metadata": {},
     "output_type": "execute_result"
    }
   ],
   "source": [
    "words = text.split(' ')\n",
    "# words = re.split('(\\W+)?'.text)\n",
    "words"
   ]
  },
  {
   "cell_type": "markdown",
   "metadata": {},
   "source": [
    "- 각 단어에 id 부여"
   ]
  },
  {
   "cell_type": "code",
   "execution_count": 4,
   "metadata": {
    "ExecuteTime": {
     "end_time": "2021-10-16T09:14:00.890213Z",
     "start_time": "2021-10-16T09:14:00.874813Z"
    }
   },
   "outputs": [],
   "source": [
    "word_to_id = {}\n",
    "id_to_word = {}\n",
    "\n",
    "for word in words:\n",
    "    if word not in word_to_id:\n",
    "        new_id = len(word_to_id)\n",
    "        word_to_id[word] = new_id\n",
    "        id_to_word[new_id] = word"
   ]
  },
  {
   "cell_type": "code",
   "execution_count": 5,
   "metadata": {
    "ExecuteTime": {
     "end_time": "2021-10-16T09:14:01.239528Z",
     "start_time": "2021-10-16T09:14:01.225490Z"
    }
   },
   "outputs": [
    {
     "data": {
      "text/plain": [
       "{'hi': 0,\n",
       " 'my': 1,\n",
       " 'name': 2,\n",
       " 'is': 3,\n",
       " 'dongyoung': 4,\n",
       " ',': 5,\n",
       " 'what': 6,\n",
       " 'your': 7,\n",
       " '?': 8}"
      ]
     },
     "execution_count": 5,
     "metadata": {},
     "output_type": "execute_result"
    }
   ],
   "source": [
    "word_to_id"
   ]
  },
  {
   "cell_type": "code",
   "execution_count": 6,
   "metadata": {
    "ExecuteTime": {
     "end_time": "2021-10-16T09:14:01.743497Z",
     "start_time": "2021-10-16T09:14:01.729446Z"
    }
   },
   "outputs": [
    {
     "data": {
      "text/plain": [
       "{0: 'hi',\n",
       " 1: 'my',\n",
       " 2: 'name',\n",
       " 3: 'is',\n",
       " 4: 'dongyoung',\n",
       " 5: ',',\n",
       " 6: 'what',\n",
       " 7: 'your',\n",
       " 8: '?'}"
      ]
     },
     "execution_count": 6,
     "metadata": {},
     "output_type": "execute_result"
    }
   ],
   "source": [
    "id_to_word"
   ]
  },
  {
   "cell_type": "code",
   "execution_count": 7,
   "metadata": {
    "ExecuteTime": {
     "end_time": "2021-10-16T09:14:01.975436Z",
     "start_time": "2021-10-16T09:14:01.960430Z"
    }
   },
   "outputs": [
    {
     "data": {
      "text/plain": [
       "array([0, 1, 2, 3, 4, 5, 6, 3, 7, 2, 8])"
      ]
     },
     "execution_count": 7,
     "metadata": {},
     "output_type": "execute_result"
    }
   ],
   "source": [
    "import numpy as np\n",
    "\n",
    "corpus = [word_to_id[w] for w in words]\n",
    "corpus = np.array(corpus)\n",
    "corpus"
   ]
  },
  {
   "cell_type": "code",
   "execution_count": 8,
   "metadata": {
    "ExecuteTime": {
     "end_time": "2021-10-16T09:14:02.299444Z",
     "start_time": "2021-10-16T09:14:02.286863Z"
    }
   },
   "outputs": [],
   "source": [
    "def preprocess(text):\n",
    "    text = text.lower()\n",
    "    symbols = [',', '.', '?', '!'] \n",
    "    for s in symbols:\n",
    "        text = text.replace(s, ' ' + s + ' ')\n",
    "    words = text.split(' ')\n",
    "    words = [i for i in words if i != '']\n",
    "    \n",
    "    word_to_id = {}\n",
    "    id_to_word = {}\n",
    "\n",
    "    for word in words:\n",
    "        if word not in word_to_id:\n",
    "            new_id = len(word_to_id)\n",
    "            word_to_id[word] = new_id\n",
    "            id_to_word[new_id] = word\n",
    "            \n",
    "    corpus = np.array([word_to_id[w] for w in words])\n",
    "    \n",
    "    return corpus, word_to_id, id_to_word"
   ]
  },
  {
   "cell_type": "code",
   "execution_count": 9,
   "metadata": {
    "ExecuteTime": {
     "end_time": "2021-10-16T09:14:02.450003Z",
     "start_time": "2021-10-16T09:14:02.436641Z"
    }
   },
   "outputs": [],
   "source": [
    "text = 'You s!ay G.oo??dBye, I say hello!'\n",
    "corpus, word_to_id, id_to_word = preprocess(text)"
   ]
  },
  {
   "cell_type": "code",
   "execution_count": 10,
   "metadata": {
    "ExecuteTime": {
     "end_time": "2021-10-16T09:14:02.691240Z",
     "start_time": "2021-10-16T09:14:02.677983Z"
    }
   },
   "outputs": [
    {
     "data": {
      "text/plain": [
       "(array([ 0,  1,  2,  3,  4,  5,  6,  7,  7,  8,  9, 10, 11, 12,  2]),\n",
       " {'you': 0,\n",
       "  's': 1,\n",
       "  '!': 2,\n",
       "  'ay': 3,\n",
       "  'g': 4,\n",
       "  '.': 5,\n",
       "  'oo': 6,\n",
       "  '?': 7,\n",
       "  'dbye': 8,\n",
       "  ',': 9,\n",
       "  'i': 10,\n",
       "  'say': 11,\n",
       "  'hello': 12})"
      ]
     },
     "execution_count": 10,
     "metadata": {},
     "output_type": "execute_result"
    }
   ],
   "source": [
    "corpus, word_to_id"
   ]
  },
  {
   "cell_type": "markdown",
   "metadata": {},
   "source": [
    "### 분산 표현(distributional representation)\n",
    "- '색'을 (R, G, B)의 벡터로 표현하듯이 '단어'도 벡터로 표현하려는 시도\n",
    "\n"
   ]
  },
  {
   "cell_type": "markdown",
   "metadata": {},
   "source": [
    "### 분포 가설(distributional hypothesis)\n",
    "- '단어의 의미는 주변 단어에 의해 형성된다'는 가설\n",
    "- 단어가 사용된 맥락(context)이 단어의 의미를 형성한다는 것\n",
    "- 윈도우 크기(window size) : 맥락에 주변 단어를 몇개나 포함할지\n",
    "<br/> <img src=\"../figs/fig%202-3.png\" style=\"width: 500px;\"><br/><br/><br/>"
   ]
  },
  {
   "cell_type": "markdown",
   "metadata": {},
   "source": [
    "### 동시발생 행렬\n",
    "- 통계 기반 기법 : 주변에 어떤 단어가 몇번씩 사용되는지 세어서 집계하는 방법"
   ]
  },
  {
   "cell_type": "code",
   "execution_count": 11,
   "metadata": {
    "ExecuteTime": {
     "end_time": "2021-10-16T09:14:04.112295Z",
     "start_time": "2021-10-16T09:14:04.098428Z"
    }
   },
   "outputs": [
    {
     "name": "stdout",
     "output_type": "stream",
     "text": [
      "[0 1 2 3 4 1 5 6]\n",
      "{0: 'you', 1: 'say', 2: 'goodbye', 3: 'and', 4: 'i', 5: 'hello', 6: '.'}\n"
     ]
    }
   ],
   "source": [
    "text = 'You say goodbye and I say hello.'\n",
    "corpus, word_to_id, id_to_word = preprocess(text)\n",
    "\n",
    "print(corpus)\n",
    "print(id_to_word)"
   ]
  },
  {
   "cell_type": "markdown",
   "metadata": {},
   "source": [
    "- 동시발생 행렬(co-occurence matrix) : 동시발생하는 단어를 표에 정리한 것\n",
    "<br/> <img src=\"../figs/fig%202-7.png\" style=\"width: 400px;\" ><br/><br/><br/>"
   ]
  },
  {
   "cell_type": "code",
   "execution_count": 12,
   "metadata": {
    "ExecuteTime": {
     "end_time": "2021-10-16T09:14:04.835213Z",
     "start_time": "2021-10-16T09:14:04.821054Z"
    }
   },
   "outputs": [],
   "source": [
    "def create_co_matrix(corpus, vocab_size, window_size=1):\n",
    "    corpus_size = len(corpus)\n",
    "    co_matrix = np.zeros((vocab_size, vocab_size), dtype=np.int32)\n",
    "    \n",
    "    for idx, word_id in enumerate(corpus):\n",
    "        for i in range(1, window_size+1):\n",
    "            idx_left = idx - i\n",
    "            idx_right = idx + i\n",
    "            \n",
    "            if idx_left >= 0:\n",
    "                left_word_id = corpus[idx_left]\n",
    "                co_matrix[word_id, left_word_id] += 1\n",
    "            \n",
    "            if idx_right < corpus_size:\n",
    "                right_word_id = corpus[idx_right]\n",
    "                co_matrix[word_id, right_word_id] += 1\n",
    "                \n",
    "    return co_matrix"
   ]
  },
  {
   "cell_type": "code",
   "execution_count": 15,
   "metadata": {
    "ExecuteTime": {
     "end_time": "2021-10-16T09:14:12.883208Z",
     "start_time": "2021-10-16T09:14:12.867911Z"
    }
   },
   "outputs": [
    {
     "data": {
      "text/plain": [
       "array([[0, 1, 0, 0, 0, 0, 0],\n",
       "       [1, 0, 1, 0, 1, 1, 0],\n",
       "       [0, 1, 0, 1, 0, 0, 0],\n",
       "       [0, 0, 1, 0, 1, 0, 0],\n",
       "       [0, 1, 0, 1, 0, 0, 0],\n",
       "       [0, 1, 0, 0, 0, 0, 1],\n",
       "       [0, 0, 0, 0, 0, 1, 0]])"
      ]
     },
     "execution_count": 15,
     "metadata": {},
     "output_type": "execute_result"
    }
   ],
   "source": [
    "create_co_matrix(corpus, vocab_size=len(id_to_word))"
   ]
  },
  {
   "cell_type": "markdown",
   "metadata": {},
   "source": [
    "### 벡터간 유사도\n",
    "- cosine similarity를 주로 사용\n",
    "<br/> <img src=\"../figs/e%202-1.png\" style=\"width: 500px;\"><br/><br/><br/>"
   ]
  },
  {
   "cell_type": "code",
   "execution_count": 16,
   "metadata": {
    "ExecuteTime": {
     "end_time": "2021-10-16T09:14:13.754532Z",
     "start_time": "2021-10-16T09:14:13.747797Z"
    }
   },
   "outputs": [],
   "source": [
    "def cos_similarity(x, y, eps=1e-8):\n",
    "    '''\n",
    "    cos similarity 계산\n",
    "    분모에 eps를 넣어서 0으로 나누기 방지\n",
    "    '''\n",
    "    nx = x / np.sqrt(np.sum(x**2) + eps)\n",
    "    ny = y / np.sqrt(np.sum(y**2) + eps)\n",
    "    return np.dot(nx, ny)"
   ]
  },
  {
   "cell_type": "code",
   "execution_count": 17,
   "metadata": {
    "ExecuteTime": {
     "end_time": "2021-10-16T09:14:14.177708Z",
     "start_time": "2021-10-16T09:14:14.159986Z"
    }
   },
   "outputs": [
    {
     "name": "stdout",
     "output_type": "stream",
     "text": [
      "you와 i의 유사도 : 0.7071067758832467\n"
     ]
    }
   ],
   "source": [
    "text = 'You say goodbye and I say hello!'\n",
    "corpus, word_to_id, id_to_word = preprocess(text)\n",
    "vocab_size = len(word_to_id)\n",
    "C = create_co_matrix(corpus, vocab_size)\n",
    "\n",
    "c0 = C[word_to_id['you']]\n",
    "c1 = C[word_to_id['i']]\n",
    "print(f'you와 i의 유사도 : {cos_similarity(c0, c1)}')"
   ]
  },
  {
   "cell_type": "markdown",
   "metadata": {},
   "source": [
    "### 유사 단어의 랭킹\n",
    "- 특정 단어에 대해 비슷한 단어를 유사도 순으로 출력하는 함수 정의"
   ]
  },
  {
   "cell_type": "code",
   "execution_count": 18,
   "metadata": {
    "ExecuteTime": {
     "end_time": "2021-10-16T09:14:15.065545Z",
     "start_time": "2021-10-16T09:14:15.049332Z"
    }
   },
   "outputs": [],
   "source": [
    "def most_similar(query, word_to_id, id_to_word, word_matrix, top=5):\n",
    "    '''\n",
    "    query : 검색어(단어)\n",
    "    query와 유사한 단어를 상위 top(=5)개 만큼 출력하는 함수\n",
    "    '''\n",
    "    if query not in word_to_id:\n",
    "        print(f'{query}를 찾을 수 없습니다.')\n",
    "        return\n",
    "    \n",
    "    print('\\n[query]: ' + query)\n",
    "    query_id = word_to_id[query]\n",
    "    query_vec = word_matrix[query_id]\n",
    "    \n",
    "    # Cosine similarity\n",
    "    vacab_size = len(id_to_word)\n",
    "    similarity = np.zeros(vocab_size)\n",
    "    for i in range(vocab_size):\n",
    "        similarity[i] = cos_similarity(word_matrix[i], query_vec)\n",
    "        \n",
    "    #유사도 순으로 출력\n",
    "    cnt = 0\n",
    "    for i in (-1*similarity).argsort():\n",
    "        if id_to_word[i] == query:\n",
    "            continue\n",
    "        print(f'{id_to_word[i]}: {round(similarity[i],4)}')\n",
    "        \n",
    "        cnt += 1\n",
    "        if cnt >= top:\n",
    "            return\n",
    "    "
   ]
  },
  {
   "cell_type": "code",
   "execution_count": 19,
   "metadata": {
    "ExecuteTime": {
     "end_time": "2021-10-16T09:14:15.773826Z",
     "start_time": "2021-10-16T09:14:15.748888Z"
    }
   },
   "outputs": [
    {
     "name": "stdout",
     "output_type": "stream",
     "text": [
      "English is a West Germanic language of the Indo-European language family, originally spoken by the inhabitants of early medieval England. It is named after the Angles, one of the ancient Germanic peoples that migrated to the area of Great Britain that later took their name, England. Both names derive from Anglia, a peninsula on the Baltic Sea which is not to be confused with East Anglia, the Eastern part of England which comprises the counties of Norfolk, Suffolk and Essex.\n",
      "\n",
      "[query]: english\n",
      "west: 0.5669\n",
      "language: 0.4082\n",
      "a: 0.4009\n",
      "baltic: 0.3536\n",
      "germanic: 0.3354\n"
     ]
    }
   ],
   "source": [
    "text = 'English is a West Germanic language of the Indo-European language family, originally spoken by the inhabitants of early medieval England. It is named after the Angles, one of the ancient Germanic peoples that migrated to the area of Great Britain that later took their name, England. Both names derive from Anglia, a peninsula on the Baltic Sea which is not to be confused with East Anglia, the Eastern part of England which comprises the counties of Norfolk, Suffolk and Essex.'\n",
    "print(text)\n",
    "corpus, word_to_id, id_to_word = preprocess(text)\n",
    "vocab_size = len(word_to_id)\n",
    "C = create_co_matrix(corpus, vocab_size, window_size=4)\n",
    "most_similar('english', word_to_id, id_to_word, C, top=5)"
   ]
  },
  {
   "cell_type": "markdown",
   "metadata": {},
   "source": [
    "### 상호 정보량(Mutual Information)\n",
    "- 점별 상호 정보량(Pointwise Mutual Information)\n",
    "-  'the'와 같이 관련성이 적지만 동시에 자주 발생하는 경우를 해결하기 위함\n",
    "<br/> <img src = \"../figs/e%202-3.png\" > <br/>\n",
    "- 이 때 두 단어의 동시 발생횟수가 0번이면 $log_{2}0 = - \\infty$ 이 되므로 양의 상호정보량(Positive PMI) 사용\n",
    "<br/> <img src = \"../figs/e%202-6.png\" > <br/>\n",
    "- 어휘 수에 따라 차원수가 커지는 문제가 있음."
   ]
  },
  {
   "cell_type": "code",
   "execution_count": 20,
   "metadata": {
    "ExecuteTime": {
     "end_time": "2021-10-16T09:14:18.094087Z",
     "start_time": "2021-10-16T09:14:18.071597Z"
    }
   },
   "outputs": [],
   "source": [
    "def ppmi(C, verbose=False, eps=1e-8):\n",
    "    '''\n",
    "    Positive Pointwise Mutual Information\n",
    "    C : co-occurence matrix\n",
    "    verbose : 진행상황 출력 여부\n",
    "    eps : 0으로 나누기 방지\n",
    "    '''\n",
    "    M = np.zeros_like(C, dtype=np.float32)\n",
    "    N = np.sum(C)\n",
    "    S = np.sum(C, axis=0)\n",
    "    total = C.shape[0] * C.shape[1]\n",
    "    cnt = 0\n",
    "    \n",
    "    for i in range(C.shape[0]):\n",
    "        for j in range(C.shape[1]):\n",
    "            pmi = np.log2(C[i,j] * N / (S[j]*S[i]) + eps)\n",
    "            M[i, j] = max(0, pmi)\n",
    "            \n",
    "            if verbose: \n",
    "                cnt += 1\n",
    "                if cnt % (total//10) == 0:\n",
    "                    print(f'{100*cnt/total}% 완료')\n",
    "    return M"
   ]
  },
  {
   "cell_type": "code",
   "execution_count": 21,
   "metadata": {
    "ExecuteTime": {
     "end_time": "2021-10-16T09:14:18.939612Z",
     "start_time": "2021-10-16T09:14:18.885809Z"
    }
   },
   "outputs": [
    {
     "name": "stdout",
     "output_type": "stream",
     "text": [
      "English is a West Germanic language of the Indo-European language family, originally spoken by the inhabitants of early medieval England. It is named after the Angles, one of the ancient Germanic peoples that migrated to the area of Great Britain that later took their name, England. Both names derive from Anglia, a peninsula on the Baltic Sea which is not to be confused with East Anglia, the Eastern part of England which comprises the counties of Norfolk, Suffolk and Essex.\n",
      "[[0 1 0 ... 0 0 0]\n",
      " [1 0 1 ... 0 0 0]\n",
      " [0 1 0 ... 0 0 0]\n",
      " ...\n",
      " [0 0 0 ... 0 1 0]\n",
      " [0 0 0 ... 1 0 1]\n",
      " [0 0 0 ... 0 1 0]]\n",
      "--------------------------------------------------\n",
      "PPMI\n",
      "[[0.    4.874 0.    ... 0.    0.    0.   ]\n",
      " [4.874 0.    2.874 ... 0.    0.    0.   ]\n",
      " [0.    2.874 0.    ... 0.    0.    0.   ]\n",
      " ...\n",
      " [0.    0.    0.    ... 0.    5.459 0.   ]\n",
      " [0.    0.    0.    ... 5.459 0.    5.459]\n",
      " [0.    0.    0.    ... 0.    5.459 0.   ]]\n"
     ]
    }
   ],
   "source": [
    "text = 'English is a West Germanic language of the Indo-European language family, originally spoken by the inhabitants of early medieval England. It is named after the Angles, one of the ancient Germanic peoples that migrated to the area of Great Britain that later took their name, England. Both names derive from Anglia, a peninsula on the Baltic Sea which is not to be confused with East Anglia, the Eastern part of England which comprises the counties of Norfolk, Suffolk and Essex.'\n",
    "print(text)\n",
    "corpus, word_to_id, id_to_word = preprocess(text)\n",
    "vocab_size = len(word_to_id)\n",
    "C = create_co_matrix(corpus, vocab_size, window_size=1)\n",
    "W = ppmi(C)\n",
    "np.set_printoptions(precision=3)\n",
    "print(C)\n",
    "print('-'*50)\n",
    "print('PPMI')\n",
    "print(W)"
   ]
  },
  {
   "cell_type": "markdown",
   "metadata": {},
   "source": [
    "### 차원 감소(dimensionality reduction)\n",
    "- 벡터의 차원을 줄이는 방법.  \n",
    "  중요도가 낮은 (대부분 0이라거나) 원소가 많아서 차원이 커지는 문제를 해결\n",
    "- SVD 사용"
   ]
  },
  {
   "cell_type": "code",
   "execution_count": 22,
   "metadata": {
    "ExecuteTime": {
     "end_time": "2021-10-16T09:14:20.598078Z",
     "start_time": "2021-10-16T09:14:20.486184Z"
    }
   },
   "outputs": [],
   "source": [
    "U, S, V = np.linalg.svd(W)"
   ]
  },
  {
   "cell_type": "code",
   "execution_count": 23,
   "metadata": {
    "ExecuteTime": {
     "end_time": "2021-10-16T09:14:21.103178Z",
     "start_time": "2021-10-16T09:14:21.085154Z"
    }
   },
   "outputs": [
    {
     "name": "stdout",
     "output_type": "stream",
     "text": [
      "[ 0.088  0.055 -0.184 -0.117 -0.097 -0.134  0.141  0.024 -0.129  0.023\n",
      "  0.048  0.06   0.045  0.077  0.02   0.032 -0.014  0.07   0.024 -0.129\n",
      " -0.04   0.037 -0.092 -0.055 -0.101 -0.118  0.09   0.09   0.043 -0.035\n",
      "  0.083 -0.098  0.054 -0.001  0.101  0.162 -0.1    0.062  0.19  -0.098\n",
      " -0.19   0.056 -0.26   0.024 -0.058  0.259 -0.025  0.317  0.069  0.083\n",
      " -0.064 -0.276 -0.112 -0.102 -0.028  0.031 -0.08  -0.492 -0.146]\n"
     ]
    }
   ],
   "source": [
    "print(U[0])"
   ]
  },
  {
   "cell_type": "code",
   "execution_count": 24,
   "metadata": {
    "ExecuteTime": {
     "end_time": "2021-10-16T09:14:22.707923Z",
     "start_time": "2021-10-16T09:14:21.486218Z"
    }
   },
   "outputs": [
    {
     "name": "stderr",
     "output_type": "stream",
     "text": [
      "findfont: Font family ['D2Coding ligature'] not found. Falling back to DejaVu Sans.\n"
     ]
    },
    {
     "data": {
      "image/png": "[encoded data removed]",
      "text/plain": [
       "<Figure size 432x288 with 1 Axes>"
      ]
     },
     "metadata": {
      "needs_background": "light"
     },
     "output_type": "display_data"
    }
   ],
   "source": [
    "for word, word_id in word_to_id.items():\n",
    "    plt.annotate(word, (U[word_id, 0], U[word_id, 1]))\n",
    "plt.scatter(U[:,0], U[:,1], alpha=0.5)\n",
    "plt.show();"
   ]
  },
  {
   "cell_type": "markdown",
   "metadata": {},
   "source": [
    "### PTB(Penn Treebank) dataset"
   ]
  },
  {
   "cell_type": "code",
   "execution_count": 30,
   "metadata": {
    "ExecuteTime": {
     "end_time": "2021-10-16T09:14:46.007643Z",
     "start_time": "2021-10-16T09:14:45.986488Z"
    }
   },
   "outputs": [
    {
     "name": "stdout",
     "output_type": "stream",
     "text": [
      "C:\\Users\\dongyoung\\NLP_study\\NLP-from-scratch\n"
     ]
    }
   ],
   "source": [
    "cd NLP_study/NLP-from-scratch"
   ]
  },
  {
   "cell_type": "code",
   "execution_count": 31,
   "metadata": {
    "ExecuteTime": {
     "end_time": "2021-10-16T09:14:51.240533Z",
     "start_time": "2021-10-16T09:14:51.222003Z"
    }
   },
   "outputs": [],
   "source": [
    "from data import ptb"
   ]
  },
  {
   "cell_type": "code",
   "execution_count": 32,
   "metadata": {
    "ExecuteTime": {
     "end_time": "2021-10-16T09:14:51.745747Z",
     "start_time": "2021-10-16T09:14:51.698983Z"
    }
   },
   "outputs": [
    {
     "name": "stdout",
     "output_type": "stream",
     "text": [
      "말뭉치 길이 : 929589\n",
      "corpus[:30]: [ 0  1  2  3  4  5  6  7  8  9 10 11 12 13 14 15 16 17 18 19 20 21 22 23\n",
      " 24 25 26 27 28 29]\n",
      "\n",
      "word_to_id['car']:3856\n",
      "word_to_id['happy']:4428\n",
      "word_to_id['lexus']:7426\n"
     ]
    }
   ],
   "source": [
    "corpus, word_to_id, id_to_word = ptb.load_data('train')\n",
    "\n",
    "print(f'말뭉치 길이 : {len(corpus)}')\n",
    "print(f'corpus[:30]: {corpus[:30]}')\n",
    "print()\n",
    "print(f'word_to_id[\\'car\\']:{word_to_id[\"car\"]}')\n",
    "print(f'word_to_id[\\'happy\\']:{word_to_id[\"happy\"]}')\n",
    "print(f'word_to_id[\\'lexus\\']:{word_to_id[\"lexus\"]}')"
   ]
  },
  {
   "cell_type": "code",
   "execution_count": 33,
   "metadata": {
    "ExecuteTime": {
     "end_time": "2021-10-16T09:31:00.833028Z",
     "start_time": "2021-10-16T09:14:52.459587Z"
    }
   },
   "outputs": [
    {
     "name": "stdout",
     "output_type": "stream",
     "text": [
      "동시발생 수 계산 ...\n",
      "PPMI 계산\n"
     ]
    },
    {
     "name": "stderr",
     "output_type": "stream",
     "text": [
      "D:\\anaconda\\lib\\site-packages\\ipykernel_launcher.py:16: RuntimeWarning: overflow encountered in long_scalars\n",
      "  app.launch_new_instance()\n",
      "D:\\anaconda\\lib\\site-packages\\ipykernel_launcher.py:16: RuntimeWarning: invalid value encountered in log2\n",
      "  app.launch_new_instance()\n"
     ]
    },
    {
     "name": "stdout",
     "output_type": "stream",
     "text": [
      "10.0% 완료\n",
      "20.0% 완료\n",
      "30.0% 완료\n",
      "40.0% 완료\n",
      "50.0% 완료\n",
      "60.0% 완료\n",
      "70.0% 완료\n",
      "80.0% 완료\n",
      "90.0% 완료\n",
      "100.0% 완료\n",
      "SVD\n",
      "\n",
      "[query]: you\n",
      "i: 0.6981\n",
      "we: 0.635\n",
      "do: 0.5512\n",
      "'ll: 0.5475\n",
      "'ve: 0.5344\n",
      "\n",
      "[query]: year\n",
      "month: 0.6668\n",
      "next: 0.6132\n",
      "quarter: 0.61\n",
      "last: 0.6068\n",
      "earlier: 0.5765\n",
      "\n",
      "[query]: car\n",
      "luxury: 0.6749\n",
      "truck: 0.6331\n",
      "auto: 0.61\n",
      "domestic: 0.5384\n",
      "corsica: 0.5336\n",
      "\n",
      "[query]: toyota\n",
      "motor: 0.7411\n",
      "nissan: 0.6706\n",
      "lexus: 0.6219\n",
      "honda: 0.6187\n",
      "motors: 0.605\n"
     ]
    }
   ],
   "source": [
    "# 빠른 svd 연산\n",
    "\n",
    "window_size = 2\n",
    "wordvec_size = 100\n",
    "\n",
    "vocab_size = len(word_to_id)\n",
    "print('동시발생 수 계산 ...')\n",
    "C = create_co_matrix(corpus, vocab_size, window_size)\n",
    "print('PPMI 계산')\n",
    "W = ppmi(C, verbose=True)\n",
    "\n",
    "print('SVD')\n",
    "try:\n",
    "    from sklearn.utils.extmath import randomized_svd\n",
    "    U, S, V = randomized_svd(W, n_components=wordvec_size, n_iter=5, random_state=None)\n",
    "except ImportError:\n",
    "    U, S, V = np.linalg.svd(W)\n",
    "    \n",
    "word_vecs = U[:, :wordvec_size]\n",
    "\n",
    "querys = ['you', 'year', 'car', 'toyota']\n",
    "for query in querys:\n",
    "    most_similar(query, word_to_id, id_to_word, word_vecs, top=5)"
   ]
  },
  {
   "cell_type": "code",
   "execution_count": null,
   "metadata": {},
   "outputs": [],
   "source": []
  }
 ],
 "metadata": {
  "kernelspec": {
   "display_name": "Python 3",
   "language": "python",
   "name": "python3"
  },
  "language_info": {
   "codemirror_mode": {
    "name": "ipython",
    "version": 3
   },
   "file_extension": ".py",
   "mimetype": "text/x-python",
   "name": "python",
   "nbconvert_exporter": "python",
   "pygments_lexer": "ipython3",
   "version": "3.7.4"
  },
  "toc": {
   "base_numbering": 1,
   "nav_menu": {},
   "number_sections": true,
   "sideBar": true,
   "skip_h1_title": false,
   "title_cell": "Table of Contents",
   "title_sidebar": "Contents",
   "toc_cell": false,
   "toc_position": {},
   "toc_section_display": true,
   "toc_window_display": false
  },
  "varInspector": {
   "cols": {
    "lenName": 16,
    "lenType": 16,
    "lenVar": 40
   },
   "kernels_config": {
    "python": {
     "delete_cmd_postfix": "",
     "delete_cmd_prefix": "del ",
     "library": "var_list.py",
     "varRefreshCmd": "print(var_dic_list())"
    },
    "r": {
     "delete_cmd_postfix": ") ",
     "delete_cmd_prefix": "rm(",
     "library": "var_list.r",
     "varRefreshCmd": "cat(var_dic_list()) "
    }
   },
   "types_to_exclude": [
    "module",
    "function",
    "builtin_function_or_method",
    "instance",
    "_Feature"
   ],
   "window_display": false
  }
 },
 "nbformat": 4,
 "nbformat_minor": 2
}
