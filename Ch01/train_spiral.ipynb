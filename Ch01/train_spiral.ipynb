{
 "cells": [
  {
   "cell_type": "markdown",
   "metadata": {},
   "source": [
    "# train spiral data set"
   ]
  },
  {
   "cell_type": "code",
   "execution_count": 1,
   "metadata": {
    "ExecuteTime": {
     "end_time": "2021-10-16T09:57:57.505866Z",
     "start_time": "2021-10-16T09:57:57.501164Z"
    }
   },
   "outputs": [],
   "source": [
    "import sys\n",
    "sys.path.append('...')\n"
   ]
  },
  {
   "cell_type": "code",
   "execution_count": 2,
   "metadata": {
    "ExecuteTime": {
     "end_time": "2021-10-16T09:57:58.253719Z",
     "start_time": "2021-10-16T09:57:58.240155Z"
    }
   },
   "outputs": [
    {
     "name": "stdout",
     "output_type": "stream",
     "text": [
      "C:\\Users\\dongyoung\n"
     ]
    }
   ],
   "source": [
    "cd"
   ]
  },
  {
   "cell_type": "code",
   "execution_count": 3,
   "metadata": {
    "ExecuteTime": {
     "end_time": "2021-10-16T09:57:58.820568Z",
     "start_time": "2021-10-16T09:57:58.803086Z"
    }
   },
   "outputs": [
    {
     "name": "stdout",
     "output_type": "stream",
     "text": [
      "C:\\Users\\dongyoung\\NLP_study\\nlp-from-scratch\n"
     ]
    }
   ],
   "source": [
    "cd NLP_study/nlp-from-scratch"
   ]
  },
  {
   "cell_type": "code",
   "execution_count": 4,
   "metadata": {
    "ExecuteTime": {
     "end_time": "2021-10-16T09:58:03.050493Z",
     "start_time": "2021-10-16T09:58:03.030401Z"
    }
   },
   "outputs": [],
   "source": [
    "from data import spiral\n",
    "import matplotlib.pyplot as plt"
   ]
  },
  {
   "cell_type": "code",
   "execution_count": 5,
   "metadata": {
    "ExecuteTime": {
     "end_time": "2021-10-16T09:58:03.483227Z",
     "start_time": "2021-10-16T09:58:03.468563Z"
    }
   },
   "outputs": [
    {
     "name": "stdout",
     "output_type": "stream",
     "text": [
      "x (300, 2)\n",
      "t (300, 3)\n"
     ]
    }
   ],
   "source": [
    "x, t = spiral.load_data()\n",
    "print('x', x.shape)\n",
    "print('t', t.shape)"
   ]
  },
  {
   "cell_type": "code",
   "execution_count": 6,
   "metadata": {
    "ExecuteTime": {
     "end_time": "2021-10-16T09:58:04.168569Z",
     "start_time": "2021-10-16T09:58:04.139795Z"
    }
   },
   "outputs": [],
   "source": [
    "from model import TwoLayerNet\n",
    "from optimizer import SGD"
   ]
  },
  {
   "cell_type": "code",
   "execution_count": 7,
   "metadata": {
    "ExecuteTime": {
     "end_time": "2021-10-16T09:58:04.599616Z",
     "start_time": "2021-10-16T09:58:04.593197Z"
    }
   },
   "outputs": [],
   "source": [
    "import numpy as np"
   ]
  },
  {
   "cell_type": "code",
   "execution_count": 8,
   "metadata": {
    "ExecuteTime": {
     "end_time": "2021-10-16T09:58:08.388910Z",
     "start_time": "2021-10-16T09:58:05.367947Z"
    }
   },
   "outputs": [
    {
     "name": "stdout",
     "output_type": "stream",
     "text": [
      "|epoch 1| 반복 10/10 | loss 0.11901621417843848\n",
      "|epoch 2| 반복 10/10 | loss 0.1170751345279845\n",
      "|epoch 3| 반복 10/10 | loss 0.1103012310593438\n",
      "|epoch 4| 반복 10/10 | loss 0.10419634137890463\n",
      "|epoch 5| 반복 10/10 | loss 0.10325472314569781\n",
      "|epoch 6| 반복 10/10 | loss 0.11324653931569087\n",
      "|epoch 7| 반복 10/10 | loss 0.10861247027073942\n",
      "|epoch 8| 반복 10/10 | loss 0.11245795510143389\n",
      "|epoch 9| 반복 10/10 | loss 0.13121125058026625\n",
      "|epoch 10| 반복 10/10 | loss 0.11398005553195534\n",
      "|epoch 11| 반복 10/10 | loss 0.11127415076861853\n",
      "|epoch 12| 반복 10/10 | loss 0.11334288811417781\n",
      "|epoch 13| 반복 10/10 | loss 0.10705216762843972\n",
      "|epoch 14| 반복 10/10 | loss 0.10545838792647344\n",
      "|epoch 15| 반복 10/10 | loss 0.10258368753223968\n",
      "|epoch 16| 반복 10/10 | loss 0.09642058320558829\n",
      "|epoch 17| 반복 10/10 | loss 0.09130486368060334\n",
      "|epoch 18| 반복 10/10 | loss 0.0860072849481495\n",
      "|epoch 19| 반복 10/10 | loss 0.08410917768869333\n",
      "|epoch 20| 반복 10/10 | loss 0.07628215157800688\n",
      "|epoch 21| 반복 10/10 | loss 0.08379128381996911\n",
      "|epoch 22| 반복 10/10 | loss 0.0866437346041937\n",
      "|epoch 23| 반복 10/10 | loss 0.07024460421073561\n",
      "|epoch 24| 반복 10/10 | loss 0.09702947938720576\n",
      "|epoch 25| 반복 10/10 | loss 0.06576744630776857\n",
      "|epoch 26| 반복 10/10 | loss 0.07664829945079124\n",
      "|epoch 27| 반복 10/10 | loss 0.07178795282882634\n",
      "|epoch 28| 반복 10/10 | loss 0.07498566764788864\n",
      "|epoch 29| 반복 10/10 | loss 0.07374880739457804\n",
      "|epoch 30| 반복 10/10 | loss 0.07608697021734034\n",
      "|epoch 31| 반복 10/10 | loss 0.07252827138775894\n",
      "|epoch 32| 반복 10/10 | loss 0.07788564470777415\n",
      "|epoch 33| 반복 10/10 | loss 0.08730493612065816\n",
      "|epoch 34| 반복 10/10 | loss 0.07826117649476558\n",
      "|epoch 35| 반복 10/10 | loss 0.07868297676461719\n",
      "|epoch 36| 반복 10/10 | loss 0.0810479132664908\n",
      "|epoch 37| 반복 10/10 | loss 0.07254284459284294\n",
      "|epoch 38| 반복 10/10 | loss 0.05928610874279101\n",
      "|epoch 39| 반복 10/10 | loss 0.057397793444637135\n",
      "|epoch 40| 반복 10/10 | loss 0.06630459515861982\n",
      "|epoch 41| 반복 10/10 | loss 0.07786488322295575\n",
      "|epoch 42| 반복 10/10 | loss 0.06987799036110569\n",
      "|epoch 43| 반복 10/10 | loss 0.07457683902172238\n",
      "|epoch 44| 반복 10/10 | loss 0.0892398732961795\n",
      "|epoch 45| 반복 10/10 | loss 0.09180286168203702\n",
      "|epoch 46| 반복 10/10 | loss 0.07251583955679776\n",
      "|epoch 47| 반복 10/10 | loss 0.07432151035837126\n",
      "|epoch 48| 반복 10/10 | loss 0.07025222865539907\n",
      "|epoch 49| 반복 10/10 | loss 0.07672750120125685\n",
      "|epoch 50| 반복 10/10 | loss 0.07164264084520676\n",
      "|epoch 51| 반복 10/10 | loss 0.08565322450885712\n",
      "|epoch 52| 반복 10/10 | loss 0.06306285112754004\n",
      "|epoch 53| 반복 10/10 | loss 0.0722595957208545\n",
      "|epoch 54| 반복 10/10 | loss 0.07411411286524931\n",
      "|epoch 55| 반복 10/10 | loss 0.0688881060229494\n",
      "|epoch 56| 반복 10/10 | loss 0.0595777208306279\n",
      "|epoch 57| 반복 10/10 | loss 0.08077308068976283\n",
      "|epoch 58| 반복 10/10 | loss 0.058573493004541344\n",
      "|epoch 59| 반복 10/10 | loss 0.06620253098638548\n",
      "|epoch 60| 반복 10/10 | loss 0.06379336096273486\n",
      "|epoch 61| 반복 10/10 | loss 0.08889911626766024\n",
      "|epoch 62| 반복 10/10 | loss 0.06513914096453433\n",
      "|epoch 63| 반복 10/10 | loss 0.06687764208402736\n",
      "|epoch 64| 반복 10/10 | loss 0.07553216006347138\n",
      "|epoch 65| 반복 10/10 | loss 0.06599549911338644\n",
      "|epoch 66| 반복 10/10 | loss 0.06822378834218062\n",
      "|epoch 67| 반복 10/10 | loss 0.042385952902461096\n",
      "|epoch 68| 반복 10/10 | loss 0.07466728149342737\n",
      "|epoch 69| 반복 10/10 | loss 0.05695382679161196\n",
      "|epoch 70| 반복 10/10 | loss 0.057180899150742134\n",
      "|epoch 71| 반복 10/10 | loss 0.060394339954610965\n",
      "|epoch 72| 반복 10/10 | loss 0.07471269717303418\n",
      "|epoch 73| 반복 10/10 | loss 0.07020904188223709\n",
      "|epoch 74| 반복 10/10 | loss 0.0771940955911722\n",
      "|epoch 75| 반복 10/10 | loss 0.05724769311565477\n",
      "|epoch 76| 반복 10/10 | loss 0.06440120742170374\n",
      "|epoch 77| 반복 10/10 | loss 0.08429562724601462\n",
      "|epoch 78| 반복 10/10 | loss 0.04798506523674989\n",
      "|epoch 79| 반복 10/10 | loss 0.057878292233038545\n",
      "|epoch 80| 반복 10/10 | loss 0.06279175985658828\n",
      "|epoch 81| 반복 10/10 | loss 0.05612875518757208\n",
      "|epoch 82| 반복 10/10 | loss 0.07081897560026695\n",
      "|epoch 83| 반복 10/10 | loss 0.06184145913156578\n",
      "|epoch 84| 반복 10/10 | loss 0.04801457345136122\n",
      "|epoch 85| 반복 10/10 | loss 0.06556585447960649\n",
      "|epoch 86| 반복 10/10 | loss 0.04408581958333511\n",
      "|epoch 87| 반복 10/10 | loss 0.0635847080917106\n",
      "|epoch 88| 반복 10/10 | loss 0.048809554719146726\n",
      "|epoch 89| 반복 10/10 | loss 0.04805629712031055\n",
      "|epoch 90| 반복 10/10 | loss 0.06748157406151936\n",
      "|epoch 91| 반복 10/10 | loss 0.04967125350652243\n",
      "|epoch 92| 반복 10/10 | loss 0.04854166318674386\n",
      "|epoch 93| 반복 10/10 | loss 0.05490549569544295\n",
      "|epoch 94| 반복 10/10 | loss 0.052355320201910194\n",
      "|epoch 95| 반복 10/10 | loss 0.058667207909222086\n",
      "|epoch 96| 반복 10/10 | loss 0.053620813722390505\n",
      "|epoch 97| 반복 10/10 | loss 0.04573819206236405\n",
      "|epoch 98| 반복 10/10 | loss 0.05507064697700977\n",
      "|epoch 99| 반복 10/10 | loss 0.04105462056350324\n",
      "|epoch 100| 반복 10/10 | loss 0.05347881618868515\n",
      "|epoch 101| 반복 10/10 | loss 0.04205147586826179\n",
      "|epoch 102| 반복 10/10 | loss 0.04719668606551454\n",
      "|epoch 103| 반복 10/10 | loss 0.058156801063096064\n",
      "|epoch 104| 반복 10/10 | loss 0.03633584605732816\n",
      "|epoch 105| 반복 10/10 | loss 0.04494274153384955\n",
      "|epoch 106| 반복 10/10 | loss 0.04005761894833114\n",
      "|epoch 107| 반복 10/10 | loss 0.030234573875923258\n",
      "|epoch 108| 반복 10/10 | loss 0.049045358507613754\n",
      "|epoch 109| 반복 10/10 | loss 0.03825607155286904\n",
      "|epoch 110| 반복 10/10 | loss 0.03787394920009778\n",
      "|epoch 111| 반복 10/10 | loss 0.04559512569576614\n",
      "|epoch 112| 반복 10/10 | loss 0.04434775119374147\n",
      "|epoch 113| 반복 10/10 | loss 0.03206328490486368\n",
      "|epoch 114| 반복 10/10 | loss 0.04047744097995358\n",
      "|epoch 115| 반복 10/10 | loss 0.027438922283772215\n",
      "|epoch 116| 반복 10/10 | loss 0.03183847675198184\n",
      "|epoch 117| 반복 10/10 | loss 0.03874333546873267\n",
      "|epoch 118| 반복 10/10 | loss 0.05251615282313613\n",
      "|epoch 119| 반복 10/10 | loss 0.04337072000294093\n",
      "|epoch 120| 반복 10/10 | loss 0.03122740094700912\n",
      "|epoch 121| 반복 10/10 | loss 0.028264104874170692\n",
      "|epoch 122| 반복 10/10 | loss 0.04128938176614384\n",
      "|epoch 123| 반복 10/10 | loss 0.030373879411047605\n",
      "|epoch 124| 반복 10/10 | loss 0.03405843376898199\n",
      "|epoch 125| 반복 10/10 | loss 0.0269607967706915\n",
      "|epoch 126| 반복 10/10 | loss 0.02406983744671881\n",
      "|epoch 127| 반복 10/10 | loss 0.04480720826528424\n",
      "|epoch 128| 반복 10/10 | loss 0.03417779365078735\n",
      "|epoch 129| 반복 10/10 | loss 0.034604824730239014\n",
      "|epoch 130| 반복 10/10 | loss 0.024337855377320576\n",
      "|epoch 131| 반복 10/10 | loss 0.028172460568550738\n",
      "|epoch 132| 반복 10/10 | loss 0.03497229865542738\n",
      "|epoch 133| 반복 10/10 | loss 0.03072671139863541\n",
      "|epoch 134| 반복 10/10 | loss 0.026128538734585975\n",
      "|epoch 135| 반복 10/10 | loss 0.013837256500443696\n",
      "|epoch 136| 반복 10/10 | loss 0.022357513416778302\n",
      "|epoch 137| 반복 10/10 | loss 0.02273730613004995\n",
      "|epoch 138| 반복 10/10 | loss 0.022073261015753548\n",
      "|epoch 139| 반복 10/10 | loss 0.01570537850359186\n",
      "|epoch 140| 반복 10/10 | loss 0.030949642504643993\n",
      "|epoch 141| 반복 10/10 | loss 0.026177273957494397\n",
      "|epoch 142| 반복 10/10 | loss 0.02396384473273646\n",
      "|epoch 143| 반복 10/10 | loss 0.02837583096268263\n",
      "|epoch 144| 반복 10/10 | loss 0.026732099731224552\n",
      "|epoch 145| 반복 10/10 | loss 0.011543140033465803\n",
      "|epoch 146| 반복 10/10 | loss 0.01899100689051436\n",
      "|epoch 147| 반복 10/10 | loss 0.02287766883668104\n",
      "|epoch 148| 반복 10/10 | loss 0.034052293895643695\n",
      "|epoch 149| 반복 10/10 | loss 0.02221861367514325\n",
      "|epoch 150| 반복 10/10 | loss 0.027377194162621316\n",
      "|epoch 151| 반복 10/10 | loss 0.02133634444910778\n",
      "|epoch 152| 반복 10/10 | loss 0.014867151695564424\n",
      "|epoch 153| 반복 10/10 | loss 0.02812189943214573\n",
      "|epoch 154| 반복 10/10 | loss 0.02435177693387858\n",
      "|epoch 155| 반복 10/10 | loss 0.016030529482078955\n",
      "|epoch 156| 반복 10/10 | loss 0.025388530604719527\n",
      "|epoch 157| 반복 10/10 | loss 0.0308105731813391\n",
      "|epoch 158| 반복 10/10 | loss 0.02365497976724562\n",
      "|epoch 159| 반복 10/10 | loss 0.02564739493082056\n",
      "|epoch 160| 반복 10/10 | loss 0.018176270181877566\n",
      "|epoch 161| 반복 10/10 | loss 0.02976429497948873\n",
      "|epoch 162| 반복 10/10 | loss 0.025067650837719686\n",
      "|epoch 163| 반복 10/10 | loss 0.01599102306715593\n",
      "|epoch 164| 반복 10/10 | loss 0.018568599079171008\n",
      "|epoch 165| 반복 10/10 | loss 0.015952078269879207\n",
      "|epoch 166| 반복 10/10 | loss 0.01558783525244481\n",
      "|epoch 167| 반복 10/10 | loss 0.009652999188118828\n",
      "|epoch 168| 반복 10/10 | loss 0.01393907478306094\n",
      "|epoch 169| 반복 10/10 | loss 0.01925042514899858\n",
      "|epoch 170| 반복 10/10 | loss 0.013584391554516772\n",
      "|epoch 171| 반복 10/10 | loss 0.02592385543178653\n",
      "|epoch 172| 반복 10/10 | loss 0.017494573958306663\n",
      "|epoch 173| 반복 10/10 | loss 0.015838056074133806\n",
      "|epoch 174| 반복 10/10 | loss 0.01682427464333834\n"
     ]
    },
    {
     "name": "stdout",
     "output_type": "stream",
     "text": [
      "|epoch 175| 반복 10/10 | loss 0.01555602534925982\n",
      "|epoch 176| 반복 10/10 | loss 0.01553586468289173\n",
      "|epoch 177| 반복 10/10 | loss 0.013772589575737657\n",
      "|epoch 178| 반복 10/10 | loss 0.019813293531136103\n",
      "|epoch 179| 반복 10/10 | loss 0.020822996194518256\n",
      "|epoch 180| 반복 10/10 | loss 0.010381682075079737\n",
      "|epoch 181| 반복 10/10 | loss 0.014465778061858569\n",
      "|epoch 182| 반복 10/10 | loss 0.023065539001317643\n",
      "|epoch 183| 반복 10/10 | loss 0.01738059712710787\n",
      "|epoch 184| 반복 10/10 | loss 0.019928016504211596\n",
      "|epoch 185| 반복 10/10 | loss 0.020252762633763296\n",
      "|epoch 186| 반복 10/10 | loss 0.023678182357887288\n",
      "|epoch 187| 반복 10/10 | loss 0.01840364180782889\n",
      "|epoch 188| 반복 10/10 | loss 0.006202513895686043\n",
      "|epoch 189| 반복 10/10 | loss 0.014244777857539784\n",
      "|epoch 190| 반복 10/10 | loss 0.0177170394182487\n",
      "|epoch 191| 반복 10/10 | loss 0.011854637520439273\n",
      "|epoch 192| 반복 10/10 | loss 0.014983125313157064\n",
      "|epoch 193| 반복 10/10 | loss 0.01596260862374756\n",
      "|epoch 194| 반복 10/10 | loss 0.012914073677449728\n",
      "|epoch 195| 반복 10/10 | loss 0.021980788026252147\n",
      "|epoch 196| 반복 10/10 | loss 0.009557195096475285\n",
      "|epoch 197| 반복 10/10 | loss 0.02028960982305886\n",
      "|epoch 198| 반복 10/10 | loss 0.012168151217668075\n",
      "|epoch 199| 반복 10/10 | loss 0.01756486356710187\n",
      "|epoch 200| 반복 10/10 | loss 0.019345090977455365\n",
      "|epoch 201| 반복 10/10 | loss 0.018716729191076607\n",
      "|epoch 202| 반복 10/10 | loss 0.014951087510594024\n",
      "|epoch 203| 반복 10/10 | loss 0.017060082148402503\n",
      "|epoch 204| 반복 10/10 | loss 0.018205643224377007\n",
      "|epoch 205| 반복 10/10 | loss 0.01116646400465536\n",
      "|epoch 206| 반복 10/10 | loss 0.025511194498001304\n",
      "|epoch 207| 반복 10/10 | loss 0.018522364653499143\n",
      "|epoch 208| 반복 10/10 | loss 0.017367219878392928\n",
      "|epoch 209| 반복 10/10 | loss 0.012715228145395292\n",
      "|epoch 210| 반복 10/10 | loss 0.008196480620245318\n",
      "|epoch 211| 반복 10/10 | loss 0.014039253245030955\n",
      "|epoch 212| 반복 10/10 | loss 0.017808661500072726\n",
      "|epoch 213| 반복 10/10 | loss 0.01309953712307412\n",
      "|epoch 214| 반복 10/10 | loss 0.009618598667177437\n",
      "|epoch 215| 반복 10/10 | loss 0.0144779354480444\n",
      "|epoch 216| 반복 10/10 | loss 0.008898225887355395\n",
      "|epoch 217| 반복 10/10 | loss 0.011591779085064473\n",
      "|epoch 218| 반복 10/10 | loss 0.021903896351708807\n",
      "|epoch 219| 반복 10/10 | loss 0.016076406075431288\n",
      "|epoch 220| 반복 10/10 | loss 0.008214375921809383\n",
      "|epoch 221| 반복 10/10 | loss 0.008544065706822906\n",
      "|epoch 222| 반복 10/10 | loss 0.011455709202879711\n",
      "|epoch 223| 반복 10/10 | loss 0.012311972056790483\n",
      "|epoch 224| 반복 10/10 | loss 0.01770525812869935\n",
      "|epoch 225| 반복 10/10 | loss 0.012436204978179285\n",
      "|epoch 226| 반복 10/10 | loss 0.015805547468856172\n",
      "|epoch 227| 반복 10/10 | loss 0.016517305482995674\n",
      "|epoch 228| 반복 10/10 | loss 0.006895911314918496\n",
      "|epoch 229| 반복 10/10 | loss 0.010406244018309998\n",
      "|epoch 230| 반복 10/10 | loss 0.014733376365114296\n",
      "|epoch 231| 반복 10/10 | loss 0.016316160854574817\n",
      "|epoch 232| 반복 10/10 | loss 0.018097359597851033\n",
      "|epoch 233| 반복 10/10 | loss 0.02216471345396097\n",
      "|epoch 234| 반복 10/10 | loss 0.021177152058425387\n",
      "|epoch 235| 반복 10/10 | loss 0.010455315339463107\n",
      "|epoch 236| 반복 10/10 | loss 0.010010152936728058\n",
      "|epoch 237| 반복 10/10 | loss 0.015558094955758505\n",
      "|epoch 238| 반복 10/10 | loss 0.013598050871154923\n",
      "|epoch 239| 반복 10/10 | loss 0.01046872960894329\n",
      "|epoch 240| 반복 10/10 | loss 0.016205067275568218\n",
      "|epoch 241| 반복 10/10 | loss 0.0076867468654727485\n",
      "|epoch 242| 반복 10/10 | loss 0.007593613898306223\n",
      "|epoch 243| 반복 10/10 | loss 0.008507683834968164\n",
      "|epoch 244| 반복 10/10 | loss 0.010798871638073417\n",
      "|epoch 245| 반복 10/10 | loss 0.014478897500543778\n",
      "|epoch 246| 반복 10/10 | loss 0.014242763478110468\n",
      "|epoch 247| 반복 10/10 | loss 0.015263425514833473\n",
      "|epoch 248| 반복 10/10 | loss 0.007124709123109021\n",
      "|epoch 249| 반복 10/10 | loss 0.015045481450810408\n",
      "|epoch 250| 반복 10/10 | loss 0.011530249774736007\n",
      "|epoch 251| 반복 10/10 | loss 0.01169371119567999\n",
      "|epoch 252| 반복 10/10 | loss 0.009063486476265141\n",
      "|epoch 253| 반복 10/10 | loss 0.013522342190101308\n",
      "|epoch 254| 반복 10/10 | loss 0.0055269978805645775\n",
      "|epoch 255| 반복 10/10 | loss 0.006828268970748587\n",
      "|epoch 256| 반복 10/10 | loss 0.004292127541842925\n",
      "|epoch 257| 반복 10/10 | loss 0.009801409562728836\n",
      "|epoch 258| 반복 10/10 | loss 0.010203510555595529\n",
      "|epoch 259| 반복 10/10 | loss 0.011591950354783\n",
      "|epoch 260| 반복 10/10 | loss 0.012146177359276606\n",
      "|epoch 261| 반복 10/10 | loss 0.01674723623717026\n",
      "|epoch 262| 반복 10/10 | loss 0.008737096735583585\n",
      "|epoch 263| 반복 10/10 | loss 0.013543488580756971\n",
      "|epoch 264| 반복 10/10 | loss 0.012079280072487793\n",
      "|epoch 265| 반복 10/10 | loss 0.009322652486512368\n",
      "|epoch 266| 반복 10/10 | loss 0.010076418099846562\n",
      "|epoch 267| 반복 10/10 | loss 0.01615776045728915\n",
      "|epoch 268| 반복 10/10 | loss 0.018280642576643722\n",
      "|epoch 269| 반복 10/10 | loss 0.007607095197295584\n",
      "|epoch 270| 반복 10/10 | loss 0.009471794785011476\n",
      "|epoch 271| 반복 10/10 | loss 0.005022019918113673\n",
      "|epoch 272| 반복 10/10 | loss 0.01510443093913839\n",
      "|epoch 273| 반복 10/10 | loss 0.01759888508753214\n",
      "|epoch 274| 반복 10/10 | loss 0.018154580730853624\n",
      "|epoch 275| 반복 10/10 | loss 0.005607988154617929\n",
      "|epoch 276| 반복 10/10 | loss 0.003322806637103274\n",
      "|epoch 277| 반복 10/10 | loss 0.011635110515717596\n",
      "|epoch 278| 반복 10/10 | loss 0.012204824091854836\n",
      "|epoch 279| 반복 10/10 | loss 0.011369128420042672\n",
      "|epoch 280| 반복 10/10 | loss 0.007493966928447965\n",
      "|epoch 281| 반복 10/10 | loss 0.007868428842528448\n",
      "|epoch 282| 반복 10/10 | loss 0.02035832401003549\n",
      "|epoch 283| 반복 10/10 | loss 0.011068158851863222\n",
      "|epoch 284| 반복 10/10 | loss 0.012876939576503696\n",
      "|epoch 285| 반복 10/10 | loss 0.013868771680844823\n",
      "|epoch 286| 반복 10/10 | loss 0.014245492581153162\n",
      "|epoch 287| 반복 10/10 | loss 0.00893273247271806\n",
      "|epoch 288| 반복 10/10 | loss 0.010121466266893076\n",
      "|epoch 289| 반복 10/10 | loss 0.005662002725717044\n",
      "|epoch 290| 반복 10/10 | loss 0.009068780049425242\n",
      "|epoch 291| 반복 10/10 | loss 0.00600300211479954\n",
      "|epoch 292| 반복 10/10 | loss 0.012860488965480463\n",
      "|epoch 293| 반복 10/10 | loss 0.011228994418571328\n",
      "|epoch 294| 반복 10/10 | loss 0.008914284337279478\n",
      "|epoch 295| 반복 10/10 | loss 0.010141629129105637\n",
      "|epoch 296| 반복 10/10 | loss 0.008952795415845935\n",
      "|epoch 297| 반복 10/10 | loss 0.014981009494492168\n",
      "|epoch 298| 반복 10/10 | loss 0.010472707819180433\n",
      "|epoch 299| 반복 10/10 | loss 0.011486725942324336\n",
      "|epoch 300| 반복 10/10 | loss 0.007594511323509745\n"
     ]
    }
   ],
   "source": [
    "# hyper-parameter\n",
    "max_epoch = 300\n",
    "batch_size = 30\n",
    "hidden_size = 10\n",
    "learning_rate = 1.0\n",
    "\n",
    "x, t = spiral.load_data()\n",
    "model = TwoLayerNet(input_size=2, hidden_size=hidden_size, output_size=3)\n",
    "optimizer = SGD(lr=learning_rate)\n",
    "\n",
    "data_size = len(x)\n",
    "max_iters = data_size // batch_size\n",
    "total_loss = 0\n",
    "loss_count = 0\n",
    "loss_list = []\n",
    "\n",
    "for epoch in range(max_epoch):\n",
    "    idx = np.random.permutation(data_size)\n",
    "    x = x[idx]\n",
    "    t = t[idx]\n",
    "    \n",
    "    for iters in range(max_iters):\n",
    "        batch_x = x[iters*batch_size:(iters+1)*batch_size]\n",
    "        batch_t = t[iters*batch_size:(iters+1)*batch_size]\n",
    "        \n",
    "        loss = model.forward(batch_x, batch_t)\n",
    "        model.backward()\n",
    "        optimizer.update(model.params, model.grads)\n",
    "        \n",
    "        total_loss = loss\n",
    "        loss_count += 1\n",
    "        \n",
    "        \n",
    "        if (iters+1) % 10 == 0:\n",
    "            avg_loss = total_loss / loss_count\n",
    "            print(f'|epoch {epoch+1}| 반복 {iters+1}/{max_iters} | loss {avg_loss}')\n",
    "            loss_list.append(avg_loss)\n",
    "            total_loss, loss_count = 0, 0"
   ]
  },
  {
   "cell_type": "code",
   "execution_count": 9,
   "metadata": {
    "ExecuteTime": {
     "end_time": "2021-10-16T09:58:25.313783Z",
     "start_time": "2021-10-16T09:58:24.666657Z"
    }
   },
   "outputs": [
    {
     "data": {
      "text/plain": [
       "[<matplotlib.lines.Line2D at 0x1bd9c965088>]"
      ]
     },
     "execution_count": 9,
     "metadata": {},
     "output_type": "execute_result"
    },
    {
     "name": "stderr",
     "output_type": "stream",
     "text": [
      "findfont: Font family ['D2Coding ligature'] not found. Falling back to DejaVu Sans.\n"
     ]
    },
    {
     "data": {
      "image/png": "[encoded data removed]",
      "text/plain": [
       "<Figure size 432x288 with 1 Axes>"
      ]
     },
     "metadata": {
      "needs_background": "light"
     },
     "output_type": "display_data"
    }
   ],
   "source": [
    "plt.plot(loss_list)"
   ]
  },
  {
   "cell_type": "markdown",
   "metadata": {},
   "source": [
    "## Trainer"
   ]
  },
  {
   "cell_type": "code",
   "execution_count": 10,
   "metadata": {
    "ExecuteTime": {
     "end_time": "2021-10-16T09:58:28.110085Z",
     "start_time": "2021-10-16T09:58:28.091399Z"
    }
   },
   "outputs": [],
   "source": [
    "from trainer import Trainer"
   ]
  },
  {
   "cell_type": "code",
   "execution_count": 11,
   "metadata": {
    "ExecuteTime": {
     "end_time": "2021-10-16T09:58:30.128628Z",
     "start_time": "2021-10-16T09:58:30.101669Z"
    }
   },
   "outputs": [],
   "source": [
    "# hyper-parameter\n",
    "max_epoch = 300\n",
    "batch_size = 30\n",
    "hidden_size = 10\n",
    "learning_rate = 1.0\n",
    "\n",
    "x, t = spiral.load_data()\n",
    "model = TwoLayerNet(input_size=2, hidden_size=hidden_size, output_size=3)\n",
    "optimizer = SGD(lr=learning_rate)\n",
    "\n",
    "# 핛브에 사요앟는 변수\n",
    "data_size = len(x)\n",
    "max_iters = data_size // batch_size\n",
    "total_loss = 0\n",
    "loss_count = 0\n",
    "loss_list = []\n"
   ]
  },
  {
   "cell_type": "code",
   "execution_count": 12,
   "metadata": {
    "ExecuteTime": {
     "end_time": "2021-10-16T09:58:31.575880Z",
     "start_time": "2021-10-16T09:58:31.566824Z"
    }
   },
   "outputs": [],
   "source": [
    "trainer = Trainer(model, optimizer)"
   ]
  },
  {
   "cell_type": "code",
   "execution_count": 22,
   "metadata": {
    "ExecuteTime": {
     "end_time": "2021-10-16T04:51:48.491025Z",
     "start_time": "2021-10-16T04:51:48.485858Z"
    }
   },
   "outputs": [
    {
     "data": {
      "text/plain": [
       "<trainer.Trainer at 0x2a0c1dd1bc8>"
      ]
     },
     "execution_count": 22,
     "metadata": {},
     "output_type": "execute_result"
    }
   ],
   "source": [
    "trainer"
   ]
  },
  {
   "cell_type": "code",
   "execution_count": null,
   "metadata": {},
   "outputs": [],
   "source": []
  }
 ],
 "metadata": {
  "kernelspec": {
   "display_name": "Python 3",
   "language": "python",
   "name": "python3"
  },
  "language_info": {
   "codemirror_mode": {
    "name": "ipython",
    "version": 3
   },
   "file_extension": ".py",
   "mimetype": "text/x-python",
   "name": "python",
   "nbconvert_exporter": "python",
   "pygments_lexer": "ipython3",
   "version": "3.7.4"
  },
  "toc": {
   "base_numbering": 1,
   "nav_menu": {},
   "number_sections": true,
   "sideBar": true,
   "skip_h1_title": false,
   "title_cell": "Table of Contents",
   "title_sidebar": "Contents",
   "toc_cell": false,
   "toc_position": {},
   "toc_section_display": true,
   "toc_window_display": false
  },
  "varInspector": {
   "cols": {
    "lenName": 16,
    "lenType": 16,
    "lenVar": 40
   },
   "kernels_config": {
    "python": {
     "delete_cmd_postfix": "",
     "delete_cmd_prefix": "del ",
     "library": "var_list.py",
     "varRefreshCmd": "print(var_dic_list())"
    },
    "r": {
     "delete_cmd_postfix": ") ",
     "delete_cmd_prefix": "rm(",
     "library": "var_list.r",
     "varRefreshCmd": "cat(var_dic_list()) "
    }
   },
   "types_to_exclude": [
    "module",
    "function",
    "builtin_function_or_method",
    "instance",
    "_Feature"
   ],
   "window_display": false
  }
 },
 "nbformat": 4,
 "nbformat_minor": 2
}
