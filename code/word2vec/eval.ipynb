{
 "cells": [
  {
   "cell_type": "code",
   "execution_count": 1,
   "metadata": {
    "colab": {
     "base_uri": "https://localhost:8080/"
    },
    "executionInfo": {
     "elapsed": 530,
     "status": "ok",
     "timestamp": 1634971793626,
     "user": {
      "displayName": "김동영",
      "photoUrl": "https://lh3.googleusercontent.com/a/default-user=s64",
      "userId": "17835880286856113214"
     },
     "user_tz": -540
    },
    "id": "MlKiHaU17AEJ",
    "outputId": "95548d44-7922-4caf-c569-6099e3d0e667"
   },
   "outputs": [
    {
     "name": "stdout",
     "output_type": "stream",
     "text": [
      "Drive already mounted at /gdrive; to attempt to forcibly remount, call drive.mount(\"/gdrive\", force_remount=True).\n"
     ]
    }
   ],
   "source": [
    "from google.colab import drive\n",
    "drive.mount('/gdrive')"
   ]
  },
  {
   "cell_type": "code",
   "execution_count": 2,
   "metadata": {
    "colab": {
     "base_uri": "https://localhost:8080/"
    },
    "executionInfo": {
     "elapsed": 10,
     "status": "ok",
     "timestamp": 1634971795933,
     "user": {
      "displayName": "김동영",
      "photoUrl": "https://lh3.googleusercontent.com/a/default-user=s64",
      "userId": "17835880286856113214"
     },
     "user_tz": -540
    },
    "id": "YTnxufNL7Apk",
    "outputId": "91f16543-ad61-4440-b103-497368dd50ab"
   },
   "outputs": [
    {
     "name": "stdout",
     "output_type": "stream",
     "text": [
      "/gdrive/MyDrive/nlp/from-scratch/nlp-from-scratch/code/word2vec\n"
     ]
    }
   ],
   "source": [
    "cd '../gdrive/MyDrive/nlp/from-scratch/nlp-from-scratch/code/word2vec'"
   ]
  },
  {
   "cell_type": "code",
   "execution_count": 1,
   "metadata": {
    "ExecuteTime": {
     "end_time": "2021-10-25T06:46:44.014080Z",
     "start_time": "2021-10-25T06:46:43.986953Z"
    },
    "executionInfo": {
     "elapsed": 611,
     "status": "ok",
     "timestamp": 1634971798078,
     "user": {
      "displayName": "김동영",
      "photoUrl": "https://lh3.googleusercontent.com/a/default-user=s64",
      "userId": "17835880286856113214"
     },
     "user_tz": -540
    },
    "id": "Ah0wwf1C5UmF"
   },
   "outputs": [],
   "source": [
    "# coding: utf-8\n",
    "import sys\n",
    "sys.path.append('../..')\n",
    "from common.util import most_similar, analogy\n",
    "import pickle\n",
    "from common import config\n",
    "config.GPU = False"
   ]
  },
  {
   "cell_type": "markdown",
   "metadata": {
    "id": "cJGSmjrF4m6l"
   },
   "source": [
    "# cbow"
   ]
  },
  {
   "cell_type": "code",
   "execution_count": 2,
   "metadata": {
    "ExecuteTime": {
     "end_time": "2021-10-25T06:46:45.412767Z",
     "start_time": "2021-10-25T06:46:44.903476Z"
    },
    "executionInfo": {
     "elapsed": 452,
     "status": "ok",
     "timestamp": 1634971801461,
     "user": {
      "displayName": "김동영",
      "photoUrl": "https://lh3.googleusercontent.com/a/default-user=s64",
      "userId": "17835880286856113214"
     },
     "user_tz": -540
    },
    "id": "oBFpbnpq7Ar3"
   },
   "outputs": [],
   "source": [
    "pkl_file_c = 'cbow_params.pkl'\n",
    "\n",
    "with open(pkl_file_c, 'rb') as f:\n",
    "    params_c = pickle.load(f)\n",
    "    word_vecs_c = params_c['word_vecs']\n",
    "    word_to_id_c = params_c['word_to_id']\n",
    "    id_to_word_c = params_c['id_to_word']"
   ]
  },
  {
   "cell_type": "code",
   "execution_count": 7,
   "metadata": {
    "ExecuteTime": {
     "end_time": "2021-10-25T06:47:38.823787Z",
     "start_time": "2021-10-25T06:47:35.042584Z"
    },
    "id": "IlTtqvLo7L1N"
   },
   "outputs": [
    {
     "name": "stdout",
     "output_type": "stream",
     "text": [
      "\n",
      "[query] you\n",
      " we: 0.74267578125\n",
      " i: 0.71337890625\n",
      " your: 0.6171875\n",
      " someone: 0.58203125\n",
      " weird: 0.580078125\n",
      "\n",
      "[query] year\n",
      " month: 0.84228515625\n",
      " summer: 0.7666015625\n",
      " week: 0.763671875\n",
      " spring: 0.73291015625\n",
      " decade: 0.68115234375\n",
      "\n",
      "[query] car\n",
      " window: 0.62109375\n",
      " luxury: 0.576171875\n",
      " cars: 0.572265625\n",
      " auto: 0.5703125\n",
      " merkur: 0.5546875\n",
      "\n",
      "[query] toyota\n",
      " seita: 0.677734375\n",
      " honda: 0.65478515625\n",
      " chevrolet: 0.646484375\n",
      " mazda: 0.6201171875\n",
      " nissan: 0.61181640625\n"
     ]
    }
   ],
   "source": [
    "# 가장 비슷한(most similar) 단어 뽑기\n",
    "\n",
    "querys = ['you', 'year', 'car', 'toyota']\n",
    "for query in querys:\n",
    "    most_similar(query, word_to_id_c, id_to_word_c, word_vecs_c, top=5)"
   ]
  },
  {
   "cell_type": "code",
   "execution_count": 4,
   "metadata": {
    "ExecuteTime": {
     "end_time": "2021-10-25T06:46:54.297385Z",
     "start_time": "2021-10-25T06:46:54.194467Z"
    },
    "id": "v261y8zb7N1I"
   },
   "outputs": [
    {
     "name": "stdout",
     "output_type": "stream",
     "text": [
      "--------------------------------------------------\n",
      "\n",
      "[analogy] king:man = queen:?\n",
      " woman: 5.39453125\n",
      " lady: 4.546875\n",
      " kid: 4.35546875\n",
      " recital: 4.3125\n",
      " father: 4.26171875\n",
      "\n",
      "[analogy] take:took = go:?\n",
      " 're: 4.70703125\n",
      " were: 4.1640625\n",
      " eurodollars: 4.109375\n",
      " are: 3.9765625\n",
      " came: 3.966796875\n",
      "\n",
      "[analogy] car:cars = child:?\n",
      " a.m: 6.7890625\n",
      " rape: 5.6953125\n",
      " daffynition: 5.39453125\n",
      " children: 5.296875\n",
      " women: 4.9609375\n",
      "\n",
      "[analogy] good:better = bad:?\n",
      " rather: 5.59765625\n",
      " more: 5.453125\n",
      " less: 5.24609375\n",
      " greater: 4.21484375\n",
      " faster: 3.85546875\n"
     ]
    }
   ],
   "source": [
    "# 유추(analogy) 작업\n",
    "print('-'*50)\n",
    "analogy('king', 'man', 'queen',  word_to_id_c, id_to_word_c, word_vecs_c)\n",
    "analogy('take', 'took', 'go',  word_to_id_c, id_to_word_c, word_vecs_c)\n",
    "analogy('car', 'cars', 'child',  word_to_id_c, id_to_word_c, word_vecs_c)\n",
    "analogy('good', 'better', 'bad',  word_to_id_c, id_to_word_c, word_vecs_c)"
   ]
  },
  {
   "cell_type": "markdown",
   "metadata": {
    "id": "SjwE6GPb4wHj"
   },
   "source": [
    "# skip-gram"
   ]
  },
  {
   "cell_type": "code",
   "execution_count": 8,
   "metadata": {
    "ExecuteTime": {
     "end_time": "2021-10-25T06:47:39.538882Z",
     "start_time": "2021-10-25T06:47:39.492607Z"
    },
    "executionInfo": {
     "elapsed": 429,
     "status": "ok",
     "timestamp": 1634971817637,
     "user": {
      "displayName": "김동영",
      "photoUrl": "https://lh3.googleusercontent.com/a/default-user=s64",
      "userId": "17835880286856113214"
     },
     "user_tz": -540
    },
    "id": "VDiyAU9d4wHl"
   },
   "outputs": [],
   "source": [
    "pkl_file_s = 'skipgram_params.pkl'\n",
    "\n",
    "with open(pkl_file_s, 'rb') as f:\n",
    "    params_s = pickle.load(f)\n",
    "    word_vecs_s = params_s['word_vecs']\n",
    "    word_to_id_s = params_s['word_to_id']\n",
    "    id_to_word_s = params_s['id_to_word']"
   ]
  },
  {
   "cell_type": "code",
   "execution_count": 9,
   "metadata": {
    "ExecuteTime": {
     "end_time": "2021-10-25T06:47:45.048906Z",
     "start_time": "2021-10-25T06:47:40.091926Z"
    },
    "id": "gum_dcAN4wHn"
   },
   "outputs": [
    {
     "name": "stdout",
     "output_type": "stream",
     "text": [
      "\n",
      "[query] you\n",
      " yourself: 0.6669921875\n",
      " your: 0.666015625\n",
      " weird: 0.65673828125\n",
      " i: 0.6494140625\n",
      " ask: 0.615234375\n",
      "\n",
      "[query] year\n",
      " month: 0.630859375\n",
      " week: 0.6083984375\n",
      " earlier: 0.576171875\n",
      " quarter: 0.5537109375\n",
      " decade: 0.52685546875\n",
      "\n",
      "[query] car\n",
      " cars: 0.5927734375\n",
      " auto: 0.5693359375\n",
      " luxury: 0.5634765625\n",
      " chevrolet: 0.55517578125\n",
      " truck: 0.54541015625\n",
      "\n",
      "[query] toyota\n",
      " motor: 0.7236328125\n",
      " honda: 0.671875\n",
      " lexus: 0.66748046875\n",
      " infiniti: 0.6396484375\n",
      " minivans: 0.5869140625\n"
     ]
    }
   ],
   "source": [
    "# 가장 비슷한(most similar) 단어 뽑기\n",
    "\n",
    "querys = ['you', 'year', 'car', 'toyota']\n",
    "for query in querys:\n",
    "    most_similar(query, word_to_id_s, id_to_word_s, word_vecs_s, top=5)"
   ]
  },
  {
   "cell_type": "code",
   "execution_count": 10,
   "metadata": {
    "ExecuteTime": {
     "end_time": "2021-10-25T06:47:45.282947Z",
     "start_time": "2021-10-25T06:47:45.165337Z"
    },
    "id": "uK4V1-B64wHq"
   },
   "outputs": [
    {
     "name": "stdout",
     "output_type": "stream",
     "text": [
      "--------------------------------------------------\n",
      "\n",
      "[analogy] king:man = queen:?\n",
      " teacher: 1.857421875\n",
      " discarded: 1.7958984375\n",
      " hero: 1.7451171875\n",
      " kasparov: 1.7333984375\n",
      " murdered: 1.7236328125\n",
      "\n",
      "[analogy] take:took = go:?\n",
      " yards: 1.8212890625\n",
      " ran: 1.61328125\n",
      " amsterdam: 1.4794921875\n",
      " crowded: 1.4560546875\n",
      " marched: 1.451171875\n",
      "\n",
      "[analogy] car:cars = child:?\n",
      " rape: 2.30078125\n",
      " children: 1.9130859375\n",
      " patients: 1.8662109375\n",
      " versions: 1.8359375\n",
      " non-violent: 1.798828125\n",
      "\n",
      "[analogy] good:better = bad:?\n",
      " worse: 1.7890625\n",
      " gyrations: 1.681640625\n",
      " rough: 1.681640625\n",
      " ever: 1.5302734375\n",
      " clobbered: 1.5166015625\n"
     ]
    }
   ],
   "source": [
    "# 유추(analogy) 작업\n",
    "print('-'*50)\n",
    "analogy('king', 'man', 'queen',  word_to_id_s, id_to_word_s, word_vecs_s)\n",
    "analogy('take', 'took', 'go',  word_to_id_s, id_to_word_s, word_vecs_s)\n",
    "analogy('car', 'cars', 'child',  word_to_id_s, id_to_word_s, word_vecs_s)\n",
    "analogy('good', 'better', 'bad',  word_to_id_s, id_to_word_s, word_vecs_s)"
   ]
  },
  {
   "cell_type": "code",
   "execution_count": null,
   "metadata": {
    "id": "Xdn9Yl2L4wHr"
   },
   "outputs": [],
   "source": []
  },
  {
   "cell_type": "markdown",
   "metadata": {
    "id": "U9mQvFfy4qWN"
   },
   "source": [
    "# 비교"
   ]
  },
  {
   "cell_type": "code",
   "execution_count": 11,
   "metadata": {
    "colab": {
     "base_uri": "https://localhost:8080/"
    },
    "executionInfo": {
     "elapsed": 4122,
     "status": "ok",
     "timestamp": 1634971869681,
     "user": {
      "displayName": "김동영",
      "photoUrl": "https://lh3.googleusercontent.com/a/default-user=s64",
      "userId": "17835880286856113214"
     },
     "user_tz": -540
    },
    "id": "zZxm-28O4rW-",
    "outputId": "5c9a929e-86c3-4baf-fa2f-f54a390abfcc"
   },
   "outputs": [
    {
     "name": "stdout",
     "output_type": "stream",
     "text": [
      "cbow\n",
      "\n",
      "[query] you\n",
      " we: 0.74267578125\n",
      " i: 0.71337890625\n",
      " your: 0.6171875\n",
      " someone: 0.58203125\n",
      " weird: 0.580078125\n",
      "--------------------------------------------------\n",
      "skip-gram\n",
      "\n",
      "[query] you\n",
      " yourself: 0.6669921875\n",
      " your: 0.666015625\n",
      " weird: 0.65673828125\n",
      " i: 0.6494140625\n",
      " ask: 0.615234375\n",
      "--------------------------------------------------\n",
      "cbow\n",
      "\n",
      "[query] year\n",
      " month: 0.84228515625\n",
      " summer: 0.7666015625\n",
      " week: 0.763671875\n",
      " spring: 0.73291015625\n",
      " decade: 0.68115234375\n",
      "--------------------------------------------------\n",
      "skip-gram\n",
      "\n",
      "[query] year\n",
      " month: 0.630859375\n",
      " week: 0.6083984375\n",
      " earlier: 0.576171875\n",
      " quarter: 0.5537109375\n",
      " decade: 0.52685546875\n",
      "--------------------------------------------------\n",
      "cbow\n",
      "\n",
      "[query] car\n",
      " window: 0.62109375\n",
      " luxury: 0.576171875\n",
      " cars: 0.572265625\n",
      " auto: 0.5703125\n",
      " merkur: 0.5546875\n",
      "--------------------------------------------------\n",
      "skip-gram\n",
      "\n",
      "[query] car\n",
      " cars: 0.5927734375\n",
      " auto: 0.5693359375\n",
      " luxury: 0.5634765625\n",
      " chevrolet: 0.55517578125\n",
      " truck: 0.54541015625\n",
      "--------------------------------------------------\n",
      "cbow\n",
      "\n",
      "[query] toyota\n",
      " seita: 0.677734375\n",
      " honda: 0.65478515625\n",
      " chevrolet: 0.646484375\n",
      " mazda: 0.6201171875\n",
      " nissan: 0.61181640625\n",
      "--------------------------------------------------\n",
      "skip-gram\n",
      "\n",
      "[query] toyota\n",
      " motor: 0.7236328125\n",
      " honda: 0.671875\n",
      " lexus: 0.66748046875\n",
      " infiniti: 0.6396484375\n",
      " minivans: 0.5869140625\n",
      "--------------------------------------------------\n"
     ]
    }
   ],
   "source": [
    "\n",
    "querys = ['you', 'year', 'car', 'toyota']\n",
    "for query in querys:\n",
    "    print('cbow')\n",
    "    most_similar(query, word_to_id_c, id_to_word_c, word_vecs_c, top=5)\n",
    "    print('-'*50)\n",
    "    print('skip-gram')\n",
    "    most_similar(query, word_to_id_s, id_to_word_s, word_vecs_s, top=5)\n",
    "    print('-'*50)"
   ]
  },
  {
   "cell_type": "code",
   "execution_count": 12,
   "metadata": {
    "colab": {
     "base_uri": "https://localhost:8080/"
    },
    "executionInfo": {
     "elapsed": 1025,
     "status": "ok",
     "timestamp": 1634971994833,
     "user": {
      "displayName": "김동영",
      "photoUrl": "https://lh3.googleusercontent.com/a/default-user=s64",
      "userId": "17835880286856113214"
     },
     "user_tz": -540
    },
    "id": "JZ7oKmnl6Utv",
    "outputId": "7ffafb3e-15ca-4644-e792-9420f2749c48"
   },
   "outputs": [
    {
     "name": "stdout",
     "output_type": "stream",
     "text": [
      "--------------------------------------------------\n",
      "cbow\n",
      "\n",
      "[analogy] king:man = queen:?\n",
      " woman: 5.39453125\n",
      " lady: 4.546875\n",
      " kid: 4.35546875\n",
      " recital: 4.3125\n",
      " father: 4.26171875\n",
      "--------------------------------------------------\n",
      "skip-gram\n",
      "\n",
      "[analogy] king:man = queen:?\n",
      " teacher: 1.857421875\n",
      " discarded: 1.7958984375\n",
      " hero: 1.7451171875\n",
      " kasparov: 1.7333984375\n",
      " murdered: 1.7236328125\n",
      "--------------------------------------------------\n",
      "cbow\n",
      "\n",
      "[analogy] take:took = go:?\n",
      " 're: 4.70703125\n",
      " were: 4.1640625\n",
      " eurodollars: 4.109375\n",
      " are: 3.9765625\n",
      " came: 3.966796875\n",
      "--------------------------------------------------\n",
      "skip-gram\n",
      "\n",
      "[analogy] take:took = go:?\n",
      " yards: 1.8212890625\n",
      " ran: 1.61328125\n",
      " amsterdam: 1.4794921875\n",
      " crowded: 1.4560546875\n",
      " marched: 1.451171875\n",
      "--------------------------------------------------\n",
      "cbow\n",
      "\n",
      "[analogy] car:cars = child:?\n",
      " a.m: 6.7890625\n",
      " rape: 5.6953125\n",
      " daffynition: 5.39453125\n",
      " children: 5.296875\n",
      " women: 4.9609375\n",
      "--------------------------------------------------\n",
      "skip-gram\n",
      "\n",
      "[analogy] car:cars = child:?\n",
      " rape: 2.30078125\n",
      " children: 1.9130859375\n",
      " patients: 1.8662109375\n",
      " versions: 1.8359375\n",
      " non-violent: 1.798828125\n",
      "--------------------------------------------------\n",
      "cbow\n",
      "\n",
      "[analogy] good:better = bad:?\n",
      " rather: 5.59765625\n",
      " more: 5.453125\n",
      " less: 5.24609375\n",
      " greater: 4.21484375\n",
      " faster: 3.85546875\n",
      "--------------------------------------------------\n",
      "skip-gram\n",
      "\n",
      "[analogy] good:better = bad:?\n",
      " worse: 1.7890625\n",
      " gyrations: 1.681640625\n",
      " rough: 1.681640625\n",
      " ever: 1.5302734375\n",
      " clobbered: 1.5166015625\n"
     ]
    }
   ],
   "source": [
    "print('-'*50)\n",
    "print('cbow')\n",
    "analogy('king', 'man', 'queen',  word_to_id_c, id_to_word_c, word_vecs_c)\n",
    "print('-'*50)\n",
    "print('skip-gram')\n",
    "analogy('king', 'man', 'queen',  word_to_id_s, id_to_word_s, word_vecs_s)\n",
    "print('-'*50)\n",
    "print('cbow')\n",
    "analogy('take', 'took', 'go',  word_to_id_c, id_to_word_c, word_vecs_c)\n",
    "print('-'*50)\n",
    "print('skip-gram')\n",
    "analogy('take', 'took', 'go',  word_to_id_s, id_to_word_s, word_vecs_s)\n",
    "print('-'*50)\n",
    "print('cbow')\n",
    "analogy('car', 'cars', 'child',  word_to_id_c, id_to_word_c, word_vecs_c)\n",
    "print('-'*50)\n",
    "print('skip-gram')\n",
    "analogy('car', 'cars', 'child',  word_to_id_s, id_to_word_s, word_vecs_s)\n",
    "print('-'*50)\n",
    "print('cbow')\n",
    "analogy('good', 'better', 'bad',  word_to_id_c, id_to_word_c, word_vecs_c)\n",
    "print('-'*50)\n",
    "print('skip-gram')\n",
    "analogy('good', 'better', 'bad',  word_to_id_s, id_to_word_s, word_vecs_s)"
   ]
  },
  {
   "cell_type": "code",
   "execution_count": null,
   "metadata": {
    "id": "jcuRF2vR7MKV"
   },
   "outputs": [],
   "source": []
  }
 ],
 "metadata": {
  "colab": {
   "authorship_tag": "ABX9TyOcr7IdCWZk9O+WiRDF0Hcy",
   "collapsed_sections": [],
   "name": "eval.ipynb",
   "provenance": []
  },
  "kernelspec": {
   "display_name": "Python 3",
   "language": "python",
   "name": "python3"
  },
  "language_info": {
   "codemirror_mode": {
    "name": "ipython",
    "version": 3
   },
   "file_extension": ".py",
   "mimetype": "text/x-python",
   "name": "python",
   "nbconvert_exporter": "python",
   "pygments_lexer": "ipython3",
   "version": "3.7.4"
  },
  "toc": {
   "base_numbering": 1,
   "nav_menu": {},
   "number_sections": true,
   "sideBar": true,
   "skip_h1_title": false,
   "title_cell": "Table of Contents",
   "title_sidebar": "Contents",
   "toc_cell": false,
   "toc_position": {},
   "toc_section_display": true,
   "toc_window_display": false
  },
  "varInspector": {
   "cols": {
    "lenName": 16,
    "lenType": 16,
    "lenVar": 40
   },
   "kernels_config": {
    "python": {
     "delete_cmd_postfix": "",
     "delete_cmd_prefix": "del ",
     "library": "var_list.py",
     "varRefreshCmd": "print(var_dic_list())"
    },
    "r": {
     "delete_cmd_postfix": ") ",
     "delete_cmd_prefix": "rm(",
     "library": "var_list.r",
     "varRefreshCmd": "cat(var_dic_list()) "
    }
   },
   "types_to_exclude": [
    "module",
    "function",
    "builtin_function_or_method",
    "instance",
    "_Feature"
   ],
   "window_display": false
  }
 },
 "nbformat": 4,
 "nbformat_minor": 1
}
